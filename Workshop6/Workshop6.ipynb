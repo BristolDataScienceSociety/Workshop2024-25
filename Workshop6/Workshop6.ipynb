{
 "cells": [
  {
   "metadata": {},
   "cell_type": "markdown",
   "source": [
    "# Linear Regression\n",
    "\n",
    "TODO: brief intro\n",
    "\n",
    "- MSE loss (what is a loss function?)\n",
    "- math formula of the rlt \n"
   ],
   "id": "b1e357738011c37f"
  },
  {
   "metadata": {},
   "cell_type": "markdown",
   "source": [
    "## brief intro to scikit-learn (link)\n",
    "\n",
    "TODO"
   ],
   "id": "af52caf075748982"
  },
  {
   "metadata": {},
   "cell_type": "markdown",
   "source": [
    "## Simple linear regression\n",
    "\n",
    "TODO: math formula"
   ],
   "id": "afc49d7f7dc59d4"
  },
  {
   "cell_type": "code",
   "execution_count": null,
   "id": "initial_id",
   "metadata": {
    "collapsed": true
   },
   "outputs": [],
   "source": [
    "# TODO: use synthetic data x-y from data/xxx.csv to do a linear regression\n",
    "\n",
    "# read csv file\n",
    "\n",
    "# use np or pd to store the data (review the preview workshop x)\n",
    "\n",
    "# use linear regression method in scikit-learn to do linear regression (link)\n",
    "\n",
    "# plot the rlt by using matplotlib.pyplot (review the preview workshop x)"
   ]
  },
  {
   "metadata": {},
   "cell_type": "markdown",
   "source": "Think: what do you notice from the plot?",
   "id": "d0a15a2e2b7dd995"
  },
  {
   "metadata": {},
   "cell_type": "markdown",
   "source": [
    "## Multiple linear regression\n",
    "\n",
    "TODO: math formula"
   ],
   "id": "8ce9278dc1033a8a"
  },
  {
   "metadata": {},
   "cell_type": "code",
   "outputs": [],
   "execution_count": null,
   "source": [
    "# TODO: use synthetic data x-y from data/xxx.csv to do a linear regression\n",
    "\n",
    "# read csv file\n",
    "\n",
    "# use np or pd to store the data (review the preview workshop x)\n",
    "\n",
    "# use linear regression method in scikit-learn to do linear regression (link)\n"
   ],
   "id": "ee98d63e9e56444f"
  },
  {
   "metadata": {},
   "cell_type": "markdown",
   "source": [
    "## Polynomial regression\n",
    "\n",
    "Overfitting\n",
    "\n",
    "Underfitting\n",
    "\n",
    "Choose proper model"
   ],
   "id": "cd206c5d95734b2d"
  },
  {
   "metadata": {},
   "cell_type": "code",
   "outputs": [],
   "execution_count": null,
   "source": [
    "# TODO: use synthetic data x-y from data/xxx.csv to do a linear regression\n",
    "\n",
    "# read csv file\n",
    "\n",
    "# use np or pd to store the data (review the preview workshop x)\n",
    "\n",
    "# use linear regression method in scikit-learn to do linear regression (link)\n",
    "\n",
    "# plot the rlt by using matplotlib.pyplot (review the preview workshop x)"
   ],
   "id": "cb2dcc8882ec2ea9"
  },
  {
   "metadata": {},
   "cell_type": "markdown",
   "source": [
    "## Exercise: a real task\n",
    "\n",
    "by using a real dataset for prediction, randomly divide dataset into 80% train and 20% test\n",
    "\n",
    "test accuracy on the test set to see what our linear regression can do\n",
    "\n",
    "- data preprocessing (data cleaning, normalization, etc.)\n"
   ],
   "id": "1d127dd54c493754"
  },
  {
   "metadata": {},
   "cell_type": "code",
   "outputs": [],
   "execution_count": null,
   "source": [
    "# TODO: find a proper dataset (can be directly imported by a line of code)\n",
    "\n",
    "# preprocessing\n",
    "\n",
    "# using method in scikit-learn to do the fitting\n",
    "\n",
    "# test accuracy\n"
   ],
   "id": "8353c69be0c21730"
  },
  {
   "metadata": {},
   "cell_type": "markdown",
   "source": "Think: do you think the accuracy of this task is high or low, why?",
   "id": "14229e0a584501f"
  },
  {
   "metadata": {},
   "cell_type": "markdown",
   "source": [
    "# Logistic regression\n",
    "\n",
    "TODO: intro\n",
    "\n",
    "using images when needed"
   ],
   "id": "96ec6409fb24abdf"
  },
  {
   "metadata": {},
   "cell_type": "code",
   "outputs": [],
   "execution_count": null,
   "source": [
    "# TODO: make a logistic regression task, using either synthetic data or find a dataset\n",
    "\n",
    "# plot the rlt if possible"
   ],
   "id": "6c40f9d653af6e5"
  },
  {
   "metadata": {},
   "cell_type": "markdown",
   "source": "Think: what's the strengths and weaknesses of logistic regression (compared to the linear regression)?\n",
   "id": "424d763672be2d90"
  },
  {
   "metadata": {},
   "cell_type": "markdown",
   "source": "Think: When shall we use the linear regression, when shall we use the logistic regression?",
   "id": "46c73a9b7e49ddc8"
  },
  {
   "metadata": {},
   "cell_type": "markdown",
   "source": [
    "# GLM\n",
    "\n",
    "TODO: intro\n",
    "\n",
    "- what hyperparams does it have and what's the meaning of them?\n",
    "\n",
    "- how can we tune the hyperparams to get a better rlt?\n",
    "\n",
    "(I'm not familiar with GLM so not sure what to write now)"
   ],
   "id": "322bf64912a2e3d7"
  },
  {
   "metadata": {},
   "cell_type": "markdown",
   "source": [
    "# Exercise: Using GLM for xx prediction\n",
    "\n",
    "TODO: find a proper dataset and make this exercise"
   ],
   "id": "977536090143b3c6"
  },
  {
   "metadata": {},
   "cell_type": "markdown",
   "source": [
    "# Wrap up\n",
    "\n",
    "brief conclusion of this workshop"
   ],
   "id": "3d52f28e6f730b95"
  }
 ],
 "metadata": {
  "kernelspec": {
   "display_name": "Python 3",
   "language": "python",
   "name": "python3"
  },
  "language_info": {
   "codemirror_mode": {
    "name": "ipython",
    "version": 2
   },
   "file_extension": ".py",
   "mimetype": "text/x-python",
   "name": "python",
   "nbconvert_exporter": "python",
   "pygments_lexer": "ipython2",
   "version": "2.7.6"
  }
 },
 "nbformat": 4,
 "nbformat_minor": 5
}
