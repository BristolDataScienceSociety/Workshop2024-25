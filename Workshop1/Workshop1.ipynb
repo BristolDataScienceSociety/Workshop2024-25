{
 "cells": [
  {
   "cell_type": "markdown",
   "id": "2b15593b",
   "metadata": {},
   "source": [
    "# Python Workshop 1: Beginner"
   ]
  },
  {
   "cell_type": "markdown",
   "id": "a9be17e5",
   "metadata": {},
   "source": [
    "In this workshops we are going to learn how to start programming in Python. \n",
    "### But first of all, what do we mean by programming?"
   ]
  },
  {
   "cell_type": "markdown",
   "id": "cc8c5f0c",
   "metadata": {},
   "source": [
    "A computer's hardware system typically consists of five major components: the arithmetic logic unit, controller, memory, input devices, and output devices. The arithmetic logic unit and controller together form the central processing unit (CPU), responsible for executing various calculations, control commands, and handling data in computer software. What we commonly refer to as a \"program\" is essentially a collection of instructions.\n",
    "### So, programming refers to the creation of sets of instructions organized in a specific manner. *(Khan Academy)*"
   ]
  },
  {
   "cell_type": "markdown",
   "id": "4cfc7d34",
   "metadata": {},
   "source": [
    "**Python**, a versatile programming language, emerged in 1991 when Guido van Rossum developed its first compiler. It swiftly gained prominence with Python 2.0's Unicode support in 2000 and Python 3.0's release in 2008. \n",
    "\n",
    "Python's strengths include **simplicity, open-source nature, portability, and support for multiple programming paradigms.** \n",
    "\n",
    "It thrives in **web development, data analysis, and machine learning, among other domains.** *(Wikipedia)*"
   ]
  },
  {
   "cell_type": "markdown",
   "id": "0da9273b",
   "metadata": {},
   "source": [
    "## How This Workshop Delivers Knowledge\n",
    "\n",
    "This workshop is designed to deliver Python programming knowledge in a **structured and practical** way. It follows a clear progression, starting with **plain Python explanations** and then gradually building up your skills by integrating those concepts into a **real-life scenario**.\n",
    "\n",
    "#### 1. Python Knowledge Explanation\n",
    "Each section of the workshop introduces core Python concepts, such as data types, variables, operators, loops, and functions. These explanations are kept straightforward and concise, helping you focus on understanding each concept clearly. \n",
    "\n",
    "- **Why this approach?** Breaking down the basics first allows you to build a strong foundation. Once you understand the essentials, you can more easily apply them to practical situations.\n",
    "\n",
    "#### 2. Real-Life Scenario Integration\n",
    "After explaining each core concept, the workshop immediately challenges you to apply that knowledge in a real-life context: a **Simple Bank Account System**. \n",
    "\n",
    "- **Why use a scenario?** It’s easier to learn when you can see how abstract programming ideas work in practice. By simulating a real-world problem, you reinforce the concepts and develop problem-solving skills that will be valuable beyond this workshop.\n",
    "\n",
    "#### 3. Building Knowledge Step-by-Step\n",
    "By alternating between Python explanations and tasks related to the scenario, this workshop helps you **gradually** absorb the material. You won’t just memorize syntax—you’ll understand how to use Python effectively to solve real-world problems.\n",
    "\n",
    "This combination of theory and practice ensures that you leave the workshop with a practical understanding of Python and confidence in applying it."
   ]
  },
  {
   "cell_type": "markdown",
   "id": "f5bc1d66",
   "metadata": {},
   "source": [
    "### Let's start with the basic syntax of python"
   ]
  },
  {
   "cell_type": "markdown",
   "id": "44c4c0cf",
   "metadata": {},
   "source": [
    "## 1. Data Types and Variables"
   ]
  },
  {
   "cell_type": "markdown",
   "id": "25b79a01",
   "metadata": {},
   "source": [
    "In programming, variables serve as data carriers and memory storage. They hold actual data, allowing reading and modification, forming the foundation of computation and control (**Imagine a variable like a box that you can put things in**). Computers handle various data types, including numbers, text, graphics, audio, and video, each requiring specific storage types. \n",
    "\n",
    "Python offers many **data types**:"
   ]
  },
  {
   "cell_type": "markdown",
   "id": "c80466b0",
   "metadata": {},
   "source": [
    "- **Integer**: In Python, an integer is a data type that represents whole numbers, both positive and negative, without any decimal point or fractional part.Python handles arbitrarily large integers (integers in Python 3.x are unified, no distinction between int and long), supports binary (e.g., `0b100`, equals 4 in decimal), octal (e.g., `0o100`, equals 64 in decimal), decimal (100), and hexadecimal (`0x100`, equals 256 in decimal) representations."
   ]
  },
  {
   "cell_type": "code",
   "execution_count": 1,
   "id": "ecc41663",
   "metadata": {},
   "outputs": [
    {
     "data": {
      "text/plain": [
       "int"
      ]
     },
     "execution_count": 1,
     "metadata": {},
     "output_type": "execute_result"
    }
   ],
   "source": [
    "#The type() function in Python is used to determine the data type of a variable or value.\n",
    "type(100)"
   ]
  },
  {
   "cell_type": "code",
   "execution_count": 2,
   "id": "e812d3f3",
   "metadata": {},
   "outputs": [
    {
     "data": {
      "text/plain": [
       "int"
      ]
     },
     "execution_count": 2,
     "metadata": {},
     "output_type": "execute_result"
    }
   ],
   "source": [
    "type(0b100)"
   ]
  },
  {
   "cell_type": "code",
   "execution_count": 3,
   "id": "242e5f7e",
   "metadata": {},
   "outputs": [
    {
     "data": {
      "text/plain": [
       "int"
      ]
     },
     "execution_count": 3,
     "metadata": {},
     "output_type": "execute_result"
    }
   ],
   "source": [
    "type(0o100)"
   ]
  },
  {
   "cell_type": "code",
   "execution_count": 4,
   "id": "15345739",
   "metadata": {},
   "outputs": [
    {
     "data": {
      "text/plain": [
       "int"
      ]
     },
     "execution_count": 4,
     "metadata": {},
     "output_type": "execute_result"
    }
   ],
   "source": [
    "type(0x100)"
   ]
  },
  {
   "cell_type": "markdown",
   "id": "615f484c",
   "metadata": {},
   "source": [
    "- **Float**: A float is a decimal number, named so because in scientific notation, the decimal point's position can vary. Besides standard mathematical notation (e.g., 123.456), floats also support scientific notation (e.g., 1.23456e2)."
   ]
  },
  {
   "cell_type": "code",
   "execution_count": 5,
   "id": "d4cca650",
   "metadata": {},
   "outputs": [
    {
     "data": {
      "text/plain": [
       "float"
      ]
     },
     "execution_count": 5,
     "metadata": {},
     "output_type": "execute_result"
    }
   ],
   "source": [
    "type(123.456)"
   ]
  },
  {
   "cell_type": "code",
   "execution_count": 6,
   "id": "e5ca927f",
   "metadata": {},
   "outputs": [
    {
     "data": {
      "text/plain": [
       "float"
      ]
     },
     "execution_count": 6,
     "metadata": {},
     "output_type": "execute_result"
    }
   ],
   "source": [
    "type(1.23456e2)"
   ]
  },
  {
   "cell_type": "markdown",
   "id": "3b1f0f32",
   "metadata": {},
   "source": [
    "- **String**: Strings in Python are sequences of characters enclosed in either single quotes ('') or double quotes (\"\"). For example, 'hello' and \"hello\". Strings also offer various representations: raw strings, byte strings, Unicode strings. Furthermore, strings can be written in multi-line form, initiated with triple single or double quotes and ending with triple single or double quotes."
   ]
  },
  {
   "cell_type": "code",
   "execution_count": 7,
   "id": "498ebe2f",
   "metadata": {},
   "outputs": [
    {
     "data": {
      "text/plain": [
       "str"
      ]
     },
     "execution_count": 7,
     "metadata": {},
     "output_type": "execute_result"
    }
   ],
   "source": [
    "type('Hello World')"
   ]
  },
  {
   "cell_type": "code",
   "execution_count": 8,
   "id": "d3dce0dc",
   "metadata": {},
   "outputs": [
    {
     "data": {
      "text/plain": [
       "str"
      ]
     },
     "execution_count": 8,
     "metadata": {},
     "output_type": "execute_result"
    }
   ],
   "source": [
    "type(\"Hello World\")"
   ]
  },
  {
   "cell_type": "markdown",
   "id": "c96b3e05",
   "metadata": {},
   "source": [
    "- **Boolean**: Booleans have only two values, True and False. In Python, you can directly use True and False to represent boolean values (note the case sensitivity). Booleans can also be obtained through boolean operations, like 3 < 5 resulting in True, and 2 == 1 resulting in False."
   ]
  },
  {
   "cell_type": "code",
   "execution_count": 9,
   "id": "81b2137b",
   "metadata": {},
   "outputs": [
    {
     "data": {
      "text/plain": [
       "bool"
      ]
     },
     "execution_count": 9,
     "metadata": {},
     "output_type": "execute_result"
    }
   ],
   "source": [
    "type(True)"
   ]
  },
  {
   "cell_type": "code",
   "execution_count": 10,
   "id": "d0bb0db8",
   "metadata": {},
   "outputs": [
    {
     "data": {
      "text/plain": [
       "bool"
      ]
     },
     "execution_count": 10,
     "metadata": {},
     "output_type": "execute_result"
    }
   ],
   "source": [
    "type(False)"
   ]
  },
  {
   "cell_type": "code",
   "execution_count": 11,
   "id": "fc8142f8",
   "metadata": {},
   "outputs": [
    {
     "data": {
      "text/plain": [
       "bool"
      ]
     },
     "execution_count": 11,
     "metadata": {},
     "output_type": "execute_result"
    }
   ],
   "source": [
    "type(3 < 5)"
   ]
  },
  {
   "cell_type": "code",
   "execution_count": 12,
   "id": "aa9089a6",
   "metadata": {},
   "outputs": [
    {
     "data": {
      "text/plain": [
       "bool"
      ]
     },
     "execution_count": 12,
     "metadata": {},
     "output_type": "execute_result"
    }
   ],
   "source": [
    "type(2 == 1)"
   ]
  },
  {
   "cell_type": "markdown",
   "id": "eb072cd3",
   "metadata": {},
   "source": [
    "- **Complex**: Like 3+5j, similar to mathematical complex numbers but with 'j' instead of 'i'. Infrequently used."
   ]
  },
  {
   "cell_type": "code",
   "execution_count": 13,
   "id": "e28053bc",
   "metadata": {},
   "outputs": [
    {
     "data": {
      "text/plain": [
       "complex"
      ]
     },
     "execution_count": 13,
     "metadata": {},
     "output_type": "execute_result"
    }
   ],
   "source": [
    "type(3 + 5j)"
   ]
  },
  {
   "cell_type": "markdown",
   "id": "b5d19096",
   "metadata": {},
   "source": [
    "### Variable Naming"
   ]
  },
  {
   "cell_type": "markdown",
   "id": "9c8b2252",
   "metadata": {},
   "source": [
    "Naming variables follows strict and recommended guidelines:"
   ]
  },
  {
   "cell_type": "markdown",
   "id": "b04bbfad",
   "metadata": {},
   "source": [
    "#### Hard Rules:\n",
    "\n",
    "- Composed of letters (Unicode characters, excluding special characters), digits, and underscores. Cannot start with a digit.\n",
    "- Case-sensitive (e.g., 'a' and 'A' are distinct).\n",
    "- Avoid conflicts with keywords and reserved words.\n",
    "\n",
    "*Correct variable name*:\n",
    "1. lvye_study\n",
    "2. _lvye\n",
    "3. N123\n",
    "\n",
    "*Incorrect variable name*:\n",
    "1. 123n   *(Cannot start with a digit.)*\n",
    "2. -study   *(Cannot use a hyphen (-) in variable names.)*\n",
    "3. continue   *(Cannot use keywords as variable names.)*\n",
    "4. my+title   *(Cannot contain characters other than letters, digits, and underscores.)*"
   ]
  },
  {
   "cell_type": "markdown",
   "id": "b689161f",
   "metadata": {},
   "source": [
    "#### PEP 8 Guidelines:\n",
    "\n",
    "- Use lowercase letters with underscores for multiple words.\n",
    "- Prefix protected instance attributes with a single underscore.\n",
    "- Prefix private instance attributes with two underscores.\n",
    "\n",
    "Additionally, meaningful and descriptive variable names are crucial for clarity and readability in code."
   ]
  },
  {
   "cell_type": "markdown",
   "id": "7f58574d",
   "metadata": {},
   "source": [
    "### Variable Utilization"
   ]
  },
  {
   "cell_type": "markdown",
   "id": "2f62059f",
   "metadata": {},
   "source": [
    "Variable utilization encompasses the effective use of data within a program, and it can be categorized into two main aspects: utilizing variables with **operators** to perform calculations and employing **functions** to manipulate and process data. Let's start with operators."
   ]
  },
  {
   "cell_type": "markdown",
   "id": "c9d32acd",
   "metadata": {},
   "source": [
    "We use the equal sign (assignment operator) to assign a value to our variable."
   ]
  },
  {
   "cell_type": "code",
   "execution_count": 14,
   "id": "e939cfb4",
   "metadata": {},
   "outputs": [
    {
     "data": {
      "text/plain": [
       "321"
      ]
     },
     "execution_count": 14,
     "metadata": {},
     "output_type": "execute_result"
    }
   ],
   "source": [
    "a = 321\n",
    "a"
   ]
  },
  {
   "cell_type": "code",
   "execution_count": 15,
   "id": "7324031c",
   "metadata": {},
   "outputs": [
    {
     "data": {
      "text/plain": [
       "12"
      ]
     },
     "execution_count": 15,
     "metadata": {},
     "output_type": "execute_result"
    }
   ],
   "source": [
    "b = 12\n",
    "b"
   ]
  },
  {
   "cell_type": "markdown",
   "id": "592cfe08",
   "metadata": {},
   "source": [
    "Then we can use these variables to do mathmetical operation with arithmetic operators."
   ]
  },
  {
   "cell_type": "code",
   "execution_count": 16,
   "id": "50547597",
   "metadata": {},
   "outputs": [
    {
     "name": "stdout",
     "output_type": "stream",
     "text": [
      "333\n",
      "309\n",
      "3852\n",
      "26.75\n"
     ]
    }
   ],
   "source": [
    "#The print() function is used to display output on the console.\n",
    "print(a + b)    # 333\n",
    "print(a - b)    # 309\n",
    "print(a * b)    # 3852\n",
    "print(a / b)    # 26.75"
   ]
  },
  {
   "cell_type": "markdown",
   "id": "c137f2f1",
   "metadata": {},
   "source": [
    "Let's move to the type conversion part. \n",
    "\n",
    "In this section, we'll use Python's built-in functions for converting data types. These functions help us transform data from one type to another, making it easier to work with different kinds of information. \n",
    "\n",
    "*At this point, there's no need to fully grasp what functions are—this is just about experiencing how they work and how they can simplify tasks related to data handling.*"
   ]
  },
  {
   "cell_type": "code",
   "execution_count": 17,
   "id": "9fe27773",
   "metadata": {},
   "outputs": [],
   "source": [
    "#Initialize variables\n",
    "num_str = \"123\"\n",
    "float_str = \"3.14\"\n",
    "int_num = 42\n",
    "char = \"A\""
   ]
  },
  {
   "cell_type": "markdown",
   "id": "163e32cf",
   "metadata": {},
   "source": [
    "- `int()`: Converts a numeric or string value to an integer, with an optional base specified."
   ]
  },
  {
   "cell_type": "code",
   "execution_count": 18,
   "id": "6410c292",
   "metadata": {},
   "outputs": [
    {
     "name": "stdout",
     "output_type": "stream",
     "text": [
      "Converted '123' to integer: 123\n",
      "Type of num_str: <class 'str'>\n",
      "Type of converted_int: <class 'int'>\n"
     ]
    }
   ],
   "source": [
    "# Using int() to convert a string to an integer\n",
    "converted_int = int(num_str)\n",
    "print(f\"Converted '{num_str}' to integer: {converted_int}\")\n",
    "print(f\"Type of num_str: {type(num_str)}\")\n",
    "print(f\"Type of converted_int: {type(converted_int)}\")"
   ]
  },
  {
   "cell_type": "markdown",
   "id": "e48eb638",
   "metadata": {},
   "source": [
    "- `float()`: Converts a string to a floating-point number."
   ]
  },
  {
   "cell_type": "code",
   "execution_count": 19,
   "id": "6f351dd5",
   "metadata": {},
   "outputs": [
    {
     "name": "stdout",
     "output_type": "stream",
     "text": [
      "Converted '3.14' to float: 3.14\n",
      "Type of float_str: <class 'str'>\n",
      "Type of converted_float: <class 'float'>\n"
     ]
    }
   ],
   "source": [
    "# Using float() to convert a string to a float\n",
    "converted_float = float(float_str)\n",
    "print(f\"Converted '{float_str}' to float: {converted_float}\")\n",
    "print(f\"Type of float_str: {type(float_str)}\")\n",
    "print(f\"Type of converted_float: {type(converted_float)}\")"
   ]
  },
  {
   "cell_type": "markdown",
   "id": "12820811",
   "metadata": {},
   "source": [
    "- `str()`: Converts a specified object into a string, with encoding options."
   ]
  },
  {
   "cell_type": "code",
   "execution_count": 20,
   "id": "a6d5377a",
   "metadata": {},
   "outputs": [
    {
     "name": "stdout",
     "output_type": "stream",
     "text": [
      "Converted 42 to string: '42'\n",
      "Type of int_num: <class 'int'>\n",
      "Type of converted_str: <class 'str'>\n"
     ]
    }
   ],
   "source": [
    "# Using str() to convert an integer to a string\n",
    "converted_str = str(int_num)\n",
    "print(f\"Converted {int_num} to string: '{converted_str}'\")\n",
    "print(f\"Type of int_num: {type(int_num)}\")\n",
    "print(f\"Type of converted_str: {type(converted_str)}\")"
   ]
  },
  {
   "cell_type": "markdown",
   "id": "1319e320",
   "metadata": {},
   "source": [
    "- `chr()`: Converts an integer to the corresponding character (string) based on its encoding."
   ]
  },
  {
   "cell_type": "code",
   "execution_count": 21,
   "id": "41c90c01",
   "metadata": {},
   "outputs": [
    {
     "name": "stdout",
     "output_type": "stream",
     "text": [
      "Converted 42 to character: '*'\n",
      "Type of int_num: <class 'int'>\n",
      "Type of converted_char: <class 'str'>\n"
     ]
    }
   ],
   "source": [
    "# Using chr() to convert an integer to a character\n",
    "converted_char = chr(int_num)\n",
    "print(f\"Converted {int_num} to character: '{converted_char}'\")\n",
    "print(f\"Type of int_num: {type(int_num)}\")\n",
    "print(f\"Type of converted_char: {type(converted_char)}\")"
   ]
  },
  {
   "cell_type": "markdown",
   "id": "8306ffb8",
   "metadata": {},
   "source": [
    "- `ord()`: Converts a character (string of length 1) to its corresponding encoding (integer)."
   ]
  },
  {
   "cell_type": "code",
   "execution_count": 22,
   "id": "8b639b43",
   "metadata": {},
   "outputs": [
    {
     "name": "stdout",
     "output_type": "stream",
     "text": [
      "Encoded character 'A' to integer: 65\n",
      "Type of char: <class 'str'>\n",
      "Type of encoded_char: <class 'int'>\n"
     ]
    }
   ],
   "source": [
    "# Using ord() to convert a character to its encoding (integer)\n",
    "encoded_char = ord(char)\n",
    "print(f\"Encoded character '{char}' to integer: {encoded_char}\")\n",
    "print(f\"Type of char: {type(char)}\")\n",
    "print(f\"Type of encoded_char: {type(encoded_char)}\")"
   ]
  },
  {
   "cell_type": "markdown",
   "id": "9514f045",
   "metadata": {},
   "source": [
    "### Real-Life Scenario: Simple Bank Account System\n",
    "\n",
    "Imagine you are developing a simple bank account system. Users can create an account, check their balance, and make deposits and withdrawals. We will build this system step-by-step throughout the workshop, applying the concepts taught at each stage.\n",
    "\n",
    "### Scenario Task: Creating a New Bank Account\n",
    "\n",
    "In this task, you’ll extend the system to handle various aspects of account creation and management. Follow the steps below:\n",
    "\n",
    "1. **Create Variables for Account Information:**\n",
    "   - Create a variable named `initial_balance` to store the initial amount (float) when a user opens a bank account.\n",
    "   - Create a variable named `account_holder` to store the name of the account holder (string).\n",
    "   - Create a variable named `account_number` to store the account number (string).\n",
    "   - Create a variable named `account_active` to indicate whether the account is active (boolean).\n",
    "\n",
    "2. **Print Account Details:**\n",
    "   - Print out a message displaying the user's initial balance.\n",
    "   - Print out a message displaying the account holder's name.\n",
    "   - Print out a message displaying the account number.\n",
    "   - Print out whether the account is active or not.\n",
    "\n",
    "3. **Perform Type Conversions:**\n",
    "   - Convert the `initial_balance` to an integer and print the converted value.\n",
    "   - Convert the `account_active` to an string and print the converted value."
   ]
  },
  {
   "cell_type": "code",
   "execution_count": null,
   "id": "eb01820c",
   "metadata": {},
   "outputs": [],
   "source": [
    "### Write your code here"
   ]
  },
  {
   "cell_type": "markdown",
   "id": "eb642d12",
   "metadata": {},
   "source": [
    "## 2. Operators"
   ]
  },
  {
   "cell_type": "markdown",
   "id": "0b04c8c5",
   "metadata": {},
   "source": [
    "Python supports various operators. The following table roughly lists all operators in order of precedence, from high to low. Operator precedence determines the order of operations when multiple operators appear together. Besides the assignment and arithmetic operators we've used earlier, we will introduce other operators later."
   ]
  },
  {
   "cell_type": "markdown",
   "id": "0dcbd49c",
   "metadata": {},
   "source": [
    ">| Operators                                                       | Discription                           |\n",
    "| ------------------------------------------------------------------------- | ------------------------------------ |\n",
    "| `[]` `[:]`                                                   | Indexing，Slicing                     |\n",
    "| `**`                                                         | Exponentiation                           |\n",
    "| `~` `+` `-`                                                  | Bitwise NOT, Unary Plus, Unary Minus               |\n",
    "| `*` `/` `%` `//`                                             | Multiplication, division, modulus, floor division               |\n",
    "| `+` `-`                                                      | Addition, subtraction                         |\n",
    "| `>>` `<<`                                                    | Zero fill left shift, Signed right shift                     |\n",
    "| `&`                                                          | AND                         |\n",
    "| `<=` `<` `>` `>=`                                            | Less than or equal to, Less than, Greater than, Greater than or equal to|\n",
    "| `==` `!=`                                                    | Equal，Not equal                   |\n",
    "| `is`  `is not`                                               | Identity operatior                     |\n",
    "| `in` `not in`                                                | membership operators                     |\n",
    "| `not` `or` `and`                                             | logical operators                     |\n",
    "| `=` `+=` `-=` `*=` `/=` `%=` `//=` | (compound) assignment operators             |\n"
   ]
  },
  {
   "cell_type": "markdown",
   "id": "b243da21",
   "metadata": {},
   "source": [
    "#### Note: In practical development, if you're unsure about operator precedence, you can use parentheses () to ensure the execution order of operations."
   ]
  },
  {
   "cell_type": "markdown",
   "id": "6a17a130",
   "metadata": {},
   "source": [
    "### Assignment Operators"
   ]
  },
  {
   "cell_type": "markdown",
   "id": "ee10398e",
   "metadata": {},
   "source": [
    "Assignment operators are among the most common operators. They assign the value on the right side to the variable on the left side. The following example demonstrates the use of assignment operators and compound assignment operators:"
   ]
  },
  {
   "cell_type": "code",
   "execution_count": 23,
   "id": "b653652c",
   "metadata": {},
   "outputs": [
    {
     "name": "stdout",
     "output_type": "stream",
     "text": [
      "195\n"
     ]
    }
   ],
   "source": [
    "#Assignment Operators and Compound Assignment Operators\n",
    "\n",
    "a = 10\n",
    "b = 3\n",
    "a += b        # Equivalent to：a = a + b\n",
    "a *= a + 2    # Equivalent to：a = a * (a + 2)\n",
    "print(a)      # a = 195. Do you know why?"
   ]
  },
  {
   "cell_type": "markdown",
   "id": "418c4c8c",
   "metadata": {},
   "source": [
    "### Comparison operators and Logical Operators\n",
    "\n",
    "**Comparison operators**, sometimes called relational operators, include ==, !=, <, >, <=, and >=. They compare values and produce boolean results, either True or False. \n",
    "\n",
    "Notably, == is used for equality comparison, while = is for assignment. \n",
    "\n",
    "**Logical operators**, and, or, and not, manipulate boolean values. \n",
    "\n",
    "\"And\" returns True only if both values are True; if the left value is False, the right is not evaluated. \n",
    "\n",
    "\"Or\" returns True if either value is True; it also short-circuits. \n",
    "\n",
    "\"Not\" returns the opposite boolean value. \n",
    "\n",
    "These operators are vital for making decisions and controlling program flow based on conditions and comparisons."
   ]
  },
  {
   "cell_type": "code",
   "execution_count": 24,
   "id": "9c2e4145",
   "metadata": {},
   "outputs": [
    {
     "name": "stdout",
     "output_type": "stream",
     "text": [
      "flag0 = True\n",
      "flag1 = True\n",
      "flag2 = False\n",
      "flag3 = False\n",
      "flag4 = True\n",
      "flag5 = False\n"
     ]
    }
   ],
   "source": [
    "#The use of comparison operators and logical operators.\n",
    "\n",
    "flag0 = 1 == 1\n",
    "flag1 = 3 > 2\n",
    "flag2 = 2 < 1\n",
    "flag3 = flag1 and flag2\n",
    "flag4 = flag1 or flag2\n",
    "flag5 = not (1 != 2)\n",
    "print('flag0 =', flag0)    # flag0 = True\n",
    "print('flag1 =', flag1)    # flag1 = True\n",
    "print('flag2 =', flag2)    # flag2 = False\n",
    "print('flag3 =', flag3)    # flag3 = False\n",
    "print('flag4 =', flag4)    # flag4 = True\n",
    "print('flag5 =', flag5)    # flag5 = False"
   ]
  },
  {
   "cell_type": "markdown",
   "id": "b248bbd6",
   "metadata": {},
   "source": [
    "### Scenario Task: Deposit and Withdraw Money with Updated Balance Tracking\n",
    "\n",
    "Now, the user wants to deposit and withdraw money from their bank account. We need to update the balance accordingly and keep track of the balance after each transaction.\n",
    "\n",
    "1. **Create Variables:**\n",
    "   - Create the variable `balance` to store the value of `initial_balance`.\n",
    "   - Create variables for `deposit_amount` and `withdrawal_amount` to store the amounts for deposit and withdrawal.\n",
    "\n",
    "2. **Calculate Updated Balance:**\n",
    "   - First, update the `balance` by adding the `deposit_amount` and print the balance immediately after the deposit.\n",
    "   - Then, subtract the `withdrawal_amount` from the updated `balance`, ensuring that the withdrawal does not exceed the balance. Print the balance immediately after the withdrawal."
   ]
  },
  {
   "cell_type": "code",
   "execution_count": null,
   "id": "5dae4fec",
   "metadata": {},
   "outputs": [],
   "source": [
    "### Write your code here"
   ]
  },
  {
   "cell_type": "markdown",
   "id": "3027ed60",
   "metadata": {},
   "source": [
    "### Extra Exercise: \n",
    "Calculate and print out the circumference and area of a circle by inputting its radius."
   ]
  },
  {
   "cell_type": "code",
   "execution_count": null,
   "id": "d8fc4ccf",
   "metadata": {},
   "outputs": [],
   "source": [
    "# Calculate and print the circumference and area of a circle by inputting its radius.\n",
    "radius = float(input('Please enter the radius of the circle:'))\n",
    "\n",
    "# Add your code here\n"
   ]
  },
  {
   "cell_type": "markdown",
   "id": "df145608",
   "metadata": {},
   "source": [
    "## 3. Branching Structures"
   ]
  },
  {
   "cell_type": "markdown",
   "id": "023dbff4",
   "metadata": {},
   "source": [
    "In Python, branching structures like \"if\" are crucial for decision-making. For instance, in a game, we use \"if\" to check if a player's score meets the level's requirement (e.g., 1000 points for level 1) and determine whether to proceed to the next level or end the game."
   ]
  },
  {
   "cell_type": "markdown",
   "id": "5b920aea",
   "metadata": {},
   "source": [
    "### `If` Statement"
   ]
  },
  {
   "cell_type": "markdown",
   "id": "2334c0a6",
   "metadata": {},
   "source": [
    "In Python, you can create branching structures using the `if`, `elif`, and `else` keywords. These are special words with specific meanings designed for constructing conditional statements. Obviously, you can't use them as variable names (in fact, they are not allowed for other identifiers either). The following example illustrates how to build a branching structure."
   ]
  },
  {
   "cell_type": "code",
   "execution_count": 25,
   "id": "e982a5ef",
   "metadata": {},
   "outputs": [
    {
     "name": "stdout",
     "output_type": "stream",
     "text": [
      "Enter a number: 5\n",
      "The number is positive.\n"
     ]
    }
   ],
   "source": [
    "# Input a number from the user\n",
    "#The input() function in Python is used to read a line of text from the user via the keyboard and return it.\n",
    "number = float(input(\"Enter a number: \"))\n",
    "\n",
    "# Colon and Indentation:\n",
    "# The colon (:) is used to indicate the start of a block of code\n",
    "# And the subsequent indentation is used to define the scope of that block, which groups together related statements.\n",
    "\n",
    "# Check if the number is positive, negative, or zero\n",
    "if number > 0:\n",
    "    print(\"The number is positive.\")\n",
    "elif number < 0:\n",
    "    print(\"The number is negative.\")\n",
    "else:\n",
    "    print(\"The number is zero.\")"
   ]
  },
  {
   "cell_type": "markdown",
   "id": "fb0e2eac",
   "metadata": {},
   "source": [
    "It's worthy to note, in Python, indentation, not curly braces, defines code blocks. \n",
    "\n",
    "To execute multiple statements under an if condition, maintain the same indentation. For more complex branches, use `if`...`elif`...`else`... or nested `if`...`else`.... \n",
    "\n",
    "The following code demonstrates how to evaluate a piecewise function using multiple branches:"
   ]
  },
  {
   "attachments": {
    "formula_1.png": {
     "image/png": "[encoded data removed]"
    }
   },
   "cell_type": "markdown",
   "id": "ddce5797",
   "metadata": {},
   "source": [
    "![formula_1.png](attachment:formula_1.png)"
   ]
  },
  {
   "cell_type": "code",
   "execution_count": 26,
   "id": "f5160eec",
   "metadata": {},
   "outputs": [
    {
     "name": "stdout",
     "output_type": "stream",
     "text": [
      "x = 1\n",
      "f(1.00) = 3.00\n"
     ]
    }
   ],
   "source": [
    "\"\"\"\n",
    "Piecewise function evaluation.\n",
    "\n",
    "        3x - 5  (x > 1)\n",
    "f(x) =  x + 2   (-1 <= x <= 1)\n",
    "        5x + 3  (x < -1)\n",
    "\n",
    "\n",
    "\"\"\"\n",
    "\n",
    "x = float(input('x = '))\n",
    "if x > 1:\n",
    "    y = 3 * x - 5\n",
    "elif x >= -1:\n",
    "    y = x + 2\n",
    "else:\n",
    "    y = 5 * x + 3\n",
    "print('f(%.2f) = %.2f' % (x, y))"
   ]
  },
  {
   "cell_type": "markdown",
   "id": "f9742207",
   "metadata": {},
   "source": [
    "Certainly, you can nest branching structures for more complex decisions. \n",
    "\n",
    "For example, after checking if you've passed a level, you might want to grade performance (e.g., lighting up two or three stars) based on collected items. \n",
    "\n",
    "This nested branching structure allows you to create more sophisticated logic and decisions within your code."
   ]
  },
  {
   "cell_type": "code",
   "execution_count": 27,
   "id": "00e2a73f",
   "metadata": {},
   "outputs": [
    {
     "name": "stdout",
     "output_type": "stream",
     "text": [
      "x = 1\n",
      "f(1.00) = 3.00\n"
     ]
    }
   ],
   "source": [
    "\"\"\"\n",
    "Piecewise function evaluation.\n",
    "\n",
    "        3x - 5  (x > 1)\n",
    "f(x) =  x + 2   (-1 <= x <= 1)\n",
    "        5x + 3  (x < -1)\n",
    "\n",
    "\n",
    "\"\"\"\n",
    "\n",
    "x = float(input('x = '))\n",
    "if x > 1:\n",
    "    y = 3 * x - 5\n",
    "else:\n",
    "    if x >= -1:\n",
    "        y = x + 2\n",
    "    else:\n",
    "        y = 5 * x + 3\n",
    "print('f(%.2f) = %.2f' % (x, y))"
   ]
  },
  {
   "cell_type": "markdown",
   "id": "090d0cae",
   "metadata": {},
   "source": [
    "*Note:please feel free to compare these two approaches and decide which one suits you better. The Zen of Python includes the guidance, \"Flat is better than nested,\" emphasizing that excessive nesting can harm code readability. Therefore, whenever possible, favor a flat code structure over nesting.*"
   ]
  },
  {
   "cell_type": "markdown",
   "id": "5ff9887b",
   "metadata": {},
   "source": [
    "### Scenario Task: Managing Withdrawals with Conditions\n",
    "\n",
    "Now, you need to ensure that the user cannot withdraw more money than is available in their account and handle various withdrawal scenarios.\n",
    "\n",
    "Follow these steps to extend the task and test your understanding of branching structures:\n",
    "\n",
    "1. **Ask for Withdrawal Amount:**\n",
    "   - Prompt the user to enter a withdrawal amount using the `input()` function and convert it to a float.\n",
    "\n",
    "2. **Implement Withdrawal Logic:**\n",
    "   - Use an `if` statement to check if the withdrawal amount is greater than the balance.\n",
    "   - If the amount exceeds the balance, print a message indicating insufficient funds.\n",
    "   - If the amount is less than or equal to the balance, check for additional conditions:\n",
    "     - **Condition 1:** Check if the withdrawal amount is less than or equal to 500. If true, print a message confirming that the transaction is processed.\n",
    "     - **Condition 2:** If the withdrawal amount is greater than 500 but less than or equal to 1000, print a message that an additional verification is required before processing the transaction.\n",
    "     - **Condition 3:** If the withdrawal amount is greater than 1000, print a message indicating that the transaction exceeds the maximum allowed limit.\n",
    "\n",
    "3. **Update Balance:**\n",
    "   - If the transaction can be processed (i.e., amount is valid and conditions are met), subtract the amount from the balance and print the new balance."
   ]
  },
  {
   "cell_type": "code",
   "execution_count": null,
   "id": "33a9fb29",
   "metadata": {},
   "outputs": [],
   "source": [
    "### Write your code here\n"
   ]
  },
  {
   "cell_type": "markdown",
   "id": "3677dc57",
   "metadata": {},
   "source": [
    "## 4. Loop Structures"
   ]
  },
  {
   "cell_type": "markdown",
   "id": "f148735e",
   "metadata": {},
   "source": [
    "In programming, we often encounter situations where we need to repeat specific instructions. For example, when controlling a soccer-playing robot, if it has the ball but isn't within shooting range, we must repeatedly instruct it to move toward the goal. This repetitive action highlights the need for loops. Another example is printing \"hello, world\" on the screen every second for an hour; manually writing this 3600 times is impractical, necessitating the use of loops.\n",
    "\n",
    "Loop structures are essential for controlling repetitive tasks in programming. Python offers two loop types: the for-in loop and the while loop."
   ]
  },
  {
   "cell_type": "markdown",
   "id": "93cc1e6f",
   "metadata": {},
   "source": [
    "### `For-in` Loop\n",
    "When you know the exact number of iterations or need to iterate over a container (as we'll discuss later), it's recommended to use the `for-in` loop. For example, consider the code below that calculates the sum of numbers from 1 to 100."
   ]
  },
  {
   "cell_type": "code",
   "execution_count": 28,
   "id": "2366a0a2",
   "metadata": {},
   "outputs": [
    {
     "name": "stdout",
     "output_type": "stream",
     "text": [
      "5050\n"
     ]
    }
   ],
   "source": [
    "#Use a for-in loop to calculate the sum of numbers from 1 to 100.\n",
    "\n",
    "sum = 0\n",
    "for x in range(101):\n",
    "    sum += x\n",
    "print(sum)"
   ]
  },
  {
   "cell_type": "markdown",
   "id": "17a9f87c",
   "metadata": {},
   "source": [
    "It's worth noting that `range(101)` in the code above can be used to generate a range from 1 to 100. When we place such a range within a `for-in` loop, the loop variable x sequentially takes on integer values from 1 to 100. However, the range function is quite versatile; here's another example:"
   ]
  },
  {
   "cell_type": "markdown",
   "id": "fb70bf96",
   "metadata": {},
   "source": [
    "- `range(101)`: Generates integers from 0 to 100 (exclusive of 101).\n",
    "- `range(1, 101)`: Generates integers from 1 to 100, with the first value included and the last value excluded, creating a closed-open interval.\n",
    "- `range(1, 101, 2)`: Generates odd numbers from 1 to 100, where 2 is the step size, indicating the increment between each number.\n",
    "- `range(100, 0, -2)`: Generates even numbers from 100 to 1, with -2 as the step size, indicating the decrement between each number."
   ]
  },
  {
   "cell_type": "markdown",
   "id": "565a5250",
   "metadata": {},
   "source": [
    "Next, let's use the following code to calculate the sum of even numbers between 1 and 100."
   ]
  },
  {
   "cell_type": "code",
   "execution_count": 29,
   "id": "0bd9c2fb",
   "metadata": {},
   "outputs": [
    {
     "name": "stdout",
     "output_type": "stream",
     "text": [
      "2550\n"
     ]
    }
   ],
   "source": [
    "#Use a for-in loop to calculate the sum of even numbers from 1 to 100.\n",
    "sum = 0\n",
    "for x in range(2, 101, 2):\n",
    "    sum += x\n",
    "print(sum)"
   ]
  },
  {
   "cell_type": "markdown",
   "id": "70298272",
   "metadata": {},
   "source": [
    "Of course, you can achieve the same functionality by using a branching structure within the loop, as shown in the following code."
   ]
  },
  {
   "cell_type": "code",
   "execution_count": 30,
   "id": "d2768fbd",
   "metadata": {},
   "outputs": [
    {
     "name": "stdout",
     "output_type": "stream",
     "text": [
      "2550\n"
     ]
    }
   ],
   "source": [
    "#Use a for-in loop and branch structure to calculate the sum of even numbers from 1 to 100.\n",
    "sum = 0\n",
    "for x in range(1, 101):\n",
    "    if x % 2 == 0:\n",
    "        sum += x\n",
    "print(sum)"
   ]
  },
  {
   "cell_type": "markdown",
   "id": "52448161",
   "metadata": {},
   "source": [
    "*Note: Compared to the approach where odd numbers are skipped, the method shown below is not an efficient choice.*"
   ]
  },
  {
   "cell_type": "markdown",
   "id": "71ab85ce",
   "metadata": {},
   "source": [
    "### `While` Loop\n",
    "When you need to create a loop structure without a specific number of iterations, it's recommended to use a `while` loop. A `while` loop is controlled by an expression that produces or evaluates to a boolean value. While the expression is `True`, the loop continues; when it becomes `False`, the loop ends.\n",
    "\n",
    "Let's explore how to use a `while` loop through a \"Guess the Number\" game. The rules of the game are as follows: the computer selects a random number between 1 and 100, and the player guesses the number. The computer provides hints (higher, lower, or correct), and if the player guesses correctly, the computer reveals the number of attempts made and the game ends. If not, the game continues."
   ]
  },
  {
   "cell_type": "code",
   "execution_count": 31,
   "id": "c7115ee4",
   "metadata": {},
   "outputs": [
    {
     "name": "stdout",
     "output_type": "stream",
     "text": [
      "please enter: 50\n",
      "The answer is larger than that\n",
      "please enter: 75\n",
      "The answer is smaller than that\n",
      "please enter: 63\n",
      "The answer is larger than that\n",
      "please enter: 69\n",
      "The answer is smaller than that\n",
      "please enter: 66\n",
      "Congratulation! This is the right answer!\n",
      "You have guessed a total of 5 times.\n"
     ]
    }
   ],
   "source": [
    "#Guessing number game\n",
    "import random\n",
    "\n",
    "answer = random.randint(1, 100)\n",
    "counter = 0\n",
    "number = 0\n",
    "while (number != answer):\n",
    "    counter += 1\n",
    "    number = int(input('please enter: '))\n",
    "    if number < answer:\n",
    "        print('The answer is larger than that')\n",
    "    elif number > answer:\n",
    "        print('The answer is smaller than that')\n",
    "    else:\n",
    "        print('Congratulation! This is the right answer!')\n",
    "print('You have guessed a total of %d times.' % counter)"
   ]
  },
  {
   "cell_type": "markdown",
   "id": "72c754d7",
   "metadata": {},
   "source": [
    "You can also use `break` keyword to interrupt the loop, as shown in the following code."
   ]
  },
  {
   "cell_type": "code",
   "execution_count": 32,
   "id": "0af2b91c",
   "metadata": {},
   "outputs": [
    {
     "name": "stdout",
     "output_type": "stream",
     "text": [
      "please enter: 50\n",
      "The answer is smaller than that\n",
      "please enter: 25\n",
      "The answer is smaller than that\n",
      "please enter: 13\n",
      "The answer is smaller than that\n",
      "please enter: 7\n",
      "The answer is smaller than that\n",
      "please enter: 3\n",
      "Congratulation! This is the right answer!\n",
      "You have guessed a total of 5 times.\n"
     ]
    }
   ],
   "source": [
    "#Guessing number game\n",
    "import random\n",
    "\n",
    "answer = random.randint(1, 100)\n",
    "counter = 0\n",
    "while True:\n",
    "    counter += 1\n",
    "    number = int(input('please enter: '))\n",
    "    if number < answer:\n",
    "        print('The answer is larger than that')\n",
    "    elif number > answer:\n",
    "        print('The answer is smaller than that')\n",
    "    else:\n",
    "        print('Congratulation! This is the right answer!')\n",
    "        break\n",
    "print('You have guessed a total of %d times.' % counter)"
   ]
  },
  {
   "cell_type": "markdown",
   "id": "416750c5",
   "metadata": {},
   "source": [
    "In the code above, the `break` keyword is used to prematurely terminate the loop. It's important to note that `break` can only exit the loop it is located in. This becomes crucial when dealing with nested loop structures (which will be discussed later). In addition to `break`, there's another keyword called `continue`, which is used to skip the remaining code in the current iteration and move to the next iteration of the loop.\n",
    "\n",
    "Similar to branching structures, loop structures can also be nested, meaning you can construct loops within loops. The following example demonstrates how to create a multiplication table using nested loops."
   ]
  },
  {
   "cell_type": "code",
   "execution_count": 33,
   "id": "62f25644",
   "metadata": {},
   "outputs": [
    {
     "name": "stdout",
     "output_type": "stream",
     "text": [
      "1*1=1\t\n",
      "2*1=2\t2*2=4\t\n",
      "3*1=3\t3*2=6\t3*3=9\t\n",
      "4*1=4\t4*2=8\t4*3=12\t4*4=16\t\n",
      "5*1=5\t5*2=10\t5*3=15\t5*4=20\t5*5=25\t\n",
      "6*1=6\t6*2=12\t6*3=18\t6*4=24\t6*5=30\t6*6=36\t\n",
      "7*1=7\t7*2=14\t7*3=21\t7*4=28\t7*5=35\t7*6=42\t7*7=49\t\n",
      "8*1=8\t8*2=16\t8*3=24\t8*4=32\t8*5=40\t8*6=48\t8*7=56\t8*8=64\t\n",
      "9*1=9\t9*2=18\t9*3=27\t9*4=36\t9*5=45\t9*6=54\t9*7=63\t9*8=72\t9*9=81\t\n"
     ]
    }
   ],
   "source": [
    "#Multiplication table\n",
    "for i in range(1, 10):\n",
    "    for j in range(1, i + 1):\n",
    "        print('%d*%d=%d' % (i, j, i * j), end='\\t')\n",
    "    print()"
   ]
  },
  {
   "cell_type": "markdown",
   "id": "a8211c9d",
   "metadata": {},
   "source": [
    "### Scenario Task: Bank Account Transactions\n",
    "\n",
    "Imagine you are developing a simple bank account system that allows users to perform multiple transactions in one session, such as depositing and withdrawing money. We will simulate these transactions step-by-step, using loops to manage the flow of the program.\n",
    "\n",
    "#### Step 1: Initialize Variables\n",
    "  - Create a variable for the number of transactions made (e.g., `transaction_count`) and initialize it to zero.\n",
    "\n",
    "#### Step 2: Continuous Transaction Loop\n",
    "  - Use a while loop to continuously prompt the user for a transaction amount until they type \"exit\".\n",
    "  - In each iteration of the loop, use a for loop to check if the user input is valid (e.g., not an empty string and can be converted to a float).\n",
    "  - Update the balance with each valid transaction and print the updated balance immediately.\n",
    "#### Step 3: Process Transactions\n",
    "  - When the user types \"exit\", break out of the while loop.\n",
    "  - Print the total number of transactions and the final balance."
   ]
  },
  {
   "cell_type": "code",
   "execution_count": null,
   "id": "1443d098",
   "metadata": {},
   "outputs": [],
   "source": [
    "### Write your code here"
   ]
  },
  {
   "cell_type": "markdown",
   "id": "e6eed9a3",
   "metadata": {},
   "source": [
    "## 5. Functions and Modules"
   ]
  },
  {
   "cell_type": "markdown",
   "id": "6340b403",
   "metadata": {},
   "source": [
    "Before delving into the content of this chapter, let's first solve a mathematical problem: please determine how many sets of positive integer solutions exist for the following equation."
   ]
  },
  {
   "attachments": {
    "formula_3.png": {
     "image/png": "[encoded data removed]"
    }
   },
   "cell_type": "markdown",
   "id": "f2e6d5fd",
   "metadata": {},
   "source": [
    "![formula_3.png](attachment:formula_3.png)"
   ]
  },
  {
   "cell_type": "markdown",
   "id": "51d36c9b",
   "metadata": {},
   "source": [
    "In fact, the problem mentioned above is equivalent to finding the number of ways to distribute 8 apples into four groups, with each group containing at least one apple. Once you realize this, the answer to the problem becomes quite evident."
   ]
  },
  {
   "attachments": {
    "formula_4.png": {
     "image/png": "[encoded data removed]"
    }
   },
   "cell_type": "markdown",
   "id": "4530ecb4",
   "metadata": {},
   "source": [
    "![formula_4.png](attachment:formula_4.png)"
   ]
  },
  {
   "cell_type": "code",
   "execution_count": 34,
   "id": "4b40de67",
   "metadata": {},
   "outputs": [
    {
     "name": "stdout",
     "output_type": "stream",
     "text": [
      "m = 7\n",
      "n = 3\n",
      "35\n"
     ]
    }
   ],
   "source": [
    "#Calculate C(M,N)\n",
    "m = int(input('m = '))\n",
    "n = int(input('n = '))\n",
    "fm = 1\n",
    "for num in range(1, m + 1):\n",
    "    fm *= num\n",
    "fn = 1\n",
    "for num in range(1, n + 1):\n",
    "    fn *= num\n",
    "fm_n = 1\n",
    "for num in range(1, m - n + 1):\n",
    "    fm_n *= num\n",
    "print(fm // fn // fm_n)"
   ]
  },
  {
   "cell_type": "markdown",
   "id": "0bef6720",
   "metadata": {},
   "source": [
    "### The Role of Functions\n",
    "In the previous code, we calculated factorials three times, resulting in code repetition. Renowned programmer Martin Fowler once stated, \"Code can have many issues, but redundancy is the worst!\" To write high-quality code, we tackle the problem of repeated code first. In Python, we achieve this by encapsulating repeated actions within a \"function.\"\n",
    "\n",
    "### Defining Functions\n",
    "In Python, you define functions using the `def` keyword, similar to naming variables. You can pass parameters inside parentheses, akin to mathematical functions' independent variables. After execution, functions can return values using the `return` keyword, similar to mathematical functions returning dependent variables.\n",
    "\n",
    "Once you understand how to define functions, you can refactor code, reorganizing its structure without altering its results. Here's the refactored code:"
   ]
  },
  {
   "cell_type": "code",
   "execution_count": 36,
   "id": "f6cf0d2d",
   "metadata": {},
   "outputs": [
    {
     "name": "stdout",
     "output_type": "stream",
     "text": [
      "m = 7\n",
      "n = 3\n",
      "35\n"
     ]
    }
   ],
   "source": [
    "#Calculate C(M,N)\n",
    "def fac(num):\n",
    "    #Factorial\n",
    "    result = 1\n",
    "    for n in range(1, num + 1):\n",
    "        result *= n\n",
    "    return result\n",
    "\n",
    "\n",
    "m = int(input('m = '))\n",
    "n = int(input('n = '))\n",
    "'''\n",
    "When you need to calculate a factorial, you no longer need to write a loop to compute it; \n",
    "instead, you can directly call the pre-defined function.\n",
    "'''\n",
    "print(fac(m) // fac(n) // fac(m - n))"
   ]
  },
  {
   "cell_type": "markdown",
   "id": "097dcb0c",
   "metadata": {},
   "source": [
    "### Function Parameters\n",
    "\n",
    "Python's approach to function parameters sets it apart from many other languages. In Python, you can give parameters default values and use variable-length parameters. This eliminates the need for function overloading because a single function can be used in various ways. Here are two examples to illustrate this."
   ]
  },
  {
   "cell_type": "code",
   "execution_count": 37,
   "id": "fc4cc6ff",
   "metadata": {},
   "outputs": [
    {
     "name": "stdout",
     "output_type": "stream",
     "text": [
      "7\n",
      "4\n",
      "0\n",
      "1\n",
      "3\n",
      "6\n",
      "350\n"
     ]
    }
   ],
   "source": [
    "from random import randint\n",
    "\n",
    "\n",
    "def roll_dice(n=2):\n",
    "    #dice rolling\n",
    "    total = 0\n",
    "    for _ in range(n):\n",
    "        total += randint(1, 6)\n",
    "    return total\n",
    "\n",
    "\n",
    "def add(a=0, b=0, c=0):\n",
    "    #add on three numbers\n",
    "    return a + b + c\n",
    "\n",
    "\n",
    "# If no parameters are specified, roll two dice as default values.\n",
    "print(roll_dice())\n",
    "# Roll three dice.\n",
    "print(roll_dice(3))\n",
    "print(add())\n",
    "print(add(1))\n",
    "print(add(1, 2))\n",
    "print(add(1, 2, 3))\n",
    "# You can pass parameters without following the predefined order.\n",
    "print(add(c=50, a=100, b=200))"
   ]
  },
  {
   "cell_type": "markdown",
   "id": "1acc3b51",
   "metadata": {},
   "source": [
    "We've assigned default values to the parameters in both functions. This means that if you call the function without providing values for these parameters, their defaults will be used. So, in the code above, you can call the 'add' function in various ways, similar to function overloading in many languages.\n",
    "\n",
    "A more versatile approach to implementing the 'add' function is possible. We may need to add zero or more parameters, and the caller determines the number. When dealing with an uncertain number of parameters, we can use variable-length parameters, as shown below."
   ]
  },
  {
   "cell_type": "code",
   "execution_count": 38,
   "id": "4775c9f3",
   "metadata": {},
   "outputs": [
    {
     "name": "stdout",
     "output_type": "stream",
     "text": [
      "0\n",
      "1\n",
      "3\n",
      "6\n",
      "25\n"
     ]
    }
   ],
   "source": [
    "# The '*' in front of the parameter name 'args' indicates that 'args' is a variable-length parameter.\n",
    "def add(*args):\n",
    "    total = 0\n",
    "    for val in args:\n",
    "        total += val\n",
    "    return total\n",
    "\n",
    "\n",
    "# Pass 0 or more parameters when calling the 'add' function.\n",
    "print(add())\n",
    "print(add(1))\n",
    "print(add(1, 2))\n",
    "print(add(1, 2, 3))\n",
    "print(add(1, 3, 5, 7, 9))"
   ]
  },
  {
   "cell_type": "markdown",
   "id": "917b8992",
   "metadata": {},
   "source": [
    "### Scenario Task: Refactor Transaction Handling into a Function\n",
    "\n",
    "#### Task:\n",
    "1. Create a function named `process_transactions` that takes an initial balance as an argument.\n",
    "2. Inside the function, use a `while` loop to continuously prompt the user for transactions until they type `'exit'`.\n",
    "3. Validate the user's input and update the balance accordingly.\n",
    "4. Print the total number of transactions and the final balance after exiting the loop.\n",
    "5. Return the final balance."
   ]
  },
  {
   "cell_type": "code",
   "execution_count": null,
   "id": "d398054b",
   "metadata": {},
   "outputs": [],
   "source": [
    "### Write your code here"
   ]
  },
  {
   "cell_type": "markdown",
   "id": "5e3f97d4",
   "metadata": {},
   "source": [
    "### Extra Exercise:\n",
    "Implement a function to determine whether a number is prime or not.\n",
    "\n",
    "**A prime number is a positive integer greater than 1 that has no positive integer divisors other than 1 and itself. In other words, a prime number is a number that cannot be evenly divided by any other number except for 1 and itself. Examples of prime numbers include 2, 3, 5, 7, 11, 13, and so on.**"
   ]
  },
  {
   "cell_type": "code",
   "execution_count": null,
   "id": "a9de4fce",
   "metadata": {},
   "outputs": [],
   "source": [
    "def is_prime(num):\n",
    "    # Add your code here.\n",
    "    pass #delete this at the end."
   ]
  }
 ],
 "metadata": {
  "kernelspec": {
   "display_name": "Python 3 (ipykernel)",
   "language": "python",
   "name": "python3"
  },
  "language_info": {
   "codemirror_mode": {
    "name": "ipython",
    "version": 3
   },
   "file_extension": ".py",
   "mimetype": "text/x-python",
   "name": "python",
   "nbconvert_exporter": "python",
   "pygments_lexer": "ipython3",
   "version": "3.9.12"
  }
 },
 "nbformat": 4,
 "nbformat_minor": 5
}
