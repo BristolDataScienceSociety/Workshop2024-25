{
 "cells": [
  {
   "metadata": {},
   "cell_type": "markdown",
   "source": [
    "# Introduction\n",
    "\n",
    "This is our last workshop, in this workshop, we'll focus on a popular and powerful dimensionality reduction method called Principle Component Analysis (PCA), followed by a brief introduction about neural networks, taking multi-layer perceptron (MLP) as an instance."
   ],
   "id": "718efb0b6d150868"
  },
  {
   "metadata": {},
   "cell_type": "markdown",
   "source": [
    "# PCA\n",
    "\n",
    "## curse of dimensionality\n",
    "\n",
    "## Mathematical derivation\n",
    "- covariance matrix （symmetric, eigenvectors orthogonal)\n",
    "- large variance related to more information (assumption)\n",
    "- calculate by hand\n",
    "- normally remain 90% - 95% variance\n",
    "- images and graphs to give intuition eg. 2d -> 1d"
   ],
   "id": "bfd6f7e8f29f200e"
  },
  {
   "cell_type": "code",
   "execution_count": null,
   "id": "initial_id",
   "metadata": {
    "collapsed": true
   },
   "outputs": [],
   "source": "# example code of PCA"
  },
  {
   "metadata": {},
   "cell_type": "code",
   "outputs": [],
   "execution_count": null,
   "source": "# Another example, as exercise",
   "id": "a9cf552c546eec21"
  },
  {
   "metadata": {},
   "cell_type": "markdown",
   "source": [
    "# Neural Networks\n",
    "- brief intro, focusing on the practical part not the history, don't directly copy and paste from wiki or somewhere\n",
    "\n",
    "## gradient decent\n",
    "\n",
    "## MLP: \n",
    "\n",
    "- what is MLP\n",
    "- what can it do\n",
    "\n",
    "- image of a small MLP, with only one hidden layer\n",
    "- mathematical part of it, includes forward propaganda and backward propaganda\n",
    "- explanation must be clear, so people can understand everything after they've read it"
   ],
   "id": "af8e1d34b63257bf"
  },
  {
   "metadata": {},
   "cell_type": "markdown",
   "source": [
    "## Using pytorch for implementation \n",
    "\n",
    "- brief into to pytorch\n",
    "- pipeline"
   ],
   "id": "c6150968a6df80bd"
  },
  {
   "metadata": {},
   "cell_type": "code",
   "outputs": [],
   "execution_count": null,
   "source": "# build up a neural network by hand, use the one hidden layer nn shown in the prev section",
   "id": "f1f5d6035147e29a"
  },
  {
   "metadata": {},
   "cell_type": "code",
   "outputs": [],
   "execution_count": null,
   "source": "# train on some synthetic data (eg. y = 10x^3 + 5x^2 -4 with gaussian noises, x samples from -10 to 10, 1000 datapoints)",
   "id": "faab9a28ac5a0896"
  },
  {
   "metadata": {},
   "cell_type": "code",
   "outputs": [],
   "execution_count": null,
   "source": "# save and load model (.pt, .pth)",
   "id": "897f6551d0c7a9c1"
  },
  {
   "metadata": {},
   "cell_type": "code",
   "outputs": [],
   "execution_count": null,
   "source": [
    "# test model on test set 1 \n",
    "# test set 1 contains 100 datapoints in [-10,10]\n",
    "\n",
    "\n",
    "# calculate the accuracy (should be high)"
   ],
   "id": "97c75f635fd9c178"
  },
  {
   "metadata": {},
   "cell_type": "code",
   "outputs": [],
   "execution_count": null,
   "source": [
    "# test model on test set 2\n",
    "# test set 2 contains 100 datapoints in [10,20]\n",
    "\n",
    "\n",
    "# calculate the accuracy (should be low)"
   ],
   "id": "7262b66b9c3d97f5"
  },
  {
   "metadata": {},
   "cell_type": "markdown",
   "source": [
    "Think: what causes the differences in accuracy on these 2 test sets?\n",
    "- nn doesn't work well on entirely strange data\n",
    "- actually all machine learning methods are like this, because they learnt from training set, they can only know what they've learnt\n",
    "- generalization ability (opposite to overfitting)"
   ],
   "id": "8d4697bc52c74633"
  },
  {
   "metadata": {},
   "cell_type": "markdown",
   "source": [
    "Exercise: can you define a MLP with 10 input neurons, 2 hidden layers, and a single output\n",
    "\n",
    "Use your new defined MLP on the task above, then run the tests, what do you notice? what do you think cause the consequence?"
   ],
   "id": "f3219d5bdeaaba57"
  },
  {
   "metadata": {},
   "cell_type": "code",
   "outputs": [],
   "execution_count": null,
   "source": "# codes",
   "id": "d54a9d86dd5ddb89"
  },
  {
   "metadata": {},
   "cell_type": "markdown",
   "source": [
    "## Convolutional Neural Networks (CNN)\n",
    "\n",
    "- brief intro\n",
    "\n",
    "link to a youtube video maybe, then you don't have to do the maths part"
   ],
   "id": "bfb073f806c90625"
  },
  {
   "metadata": {},
   "cell_type": "markdown",
   "source": [
    "MNIST dataset\n",
    "- brief intro"
   ],
   "id": "efc557a1f499828a"
  },
  {
   "metadata": {},
   "cell_type": "code",
   "outputs": [],
   "execution_count": null,
   "source": "# use pytorch to write a cnn",
   "id": "6f903c38bbf6a2cd"
  },
  {
   "metadata": {},
   "cell_type": "code",
   "outputs": [],
   "execution_count": null,
   "source": "# use that cnn on mnist",
   "id": "bbab56f0023997d5"
  },
  {
   "metadata": {},
   "cell_type": "code",
   "outputs": [],
   "execution_count": null,
   "source": "# visualize if needed",
   "id": "6b7858d34db6f47e"
  },
  {
   "metadata": {},
   "cell_type": "markdown",
   "source": [
    "# Wrap up and final words\n",
    "\n",
    "- wrap up for this workshop\n",
    "- say sth for the last workshop, thanks our members"
   ],
   "id": "6912ba1150dc3a1d"
  }
 ],
 "metadata": {
  "kernelspec": {
   "display_name": "Python 3",
   "language": "python",
   "name": "python3"
  },
  "language_info": {
   "codemirror_mode": {
    "name": "ipython",
    "version": 2
   },
   "file_extension": ".py",
   "mimetype": "text/x-python",
   "name": "python",
   "nbconvert_exporter": "python",
   "pygments_lexer": "ipython2",
   "version": "2.7.6"
  }
 },
 "nbformat": 4,
 "nbformat_minor": 5
}
