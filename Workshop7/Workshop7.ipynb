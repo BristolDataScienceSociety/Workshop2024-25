{
 "cells": [
  {
   "metadata": {},
   "cell_type": "markdown",
   "source": [
    "# Decision Tree\n",
    "\n",
    "TODO:\n",
    "- brief intro\n",
    "- categorial vs numerical features\n",
    "- continuous vs discrete data\n",
    "- bagging\n",
    "- gini/cross entropy/..."
   ],
   "id": "d5f6d6e9866199ea"
  },
  {
   "metadata": {},
   "cell_type": "markdown",
   "source": [
    "## Covertype dataset (link)\n",
    "\n",
    "TODO: brief intro"
   ],
   "id": "82ee87df05188250"
  },
  {
   "metadata": {},
   "cell_type": "code",
   "outputs": [],
   "execution_count": null,
   "source": [
    "# Import packages\n",
    "import numpy as np\n",
    "import pandas as pd\n",
    "from sklearn.datasets import fetch_covtype\n",
    "from sklearn.model_selection import train_test_split"
   ],
   "id": "3c325847a951a780"
  },
  {
   "metadata": {},
   "cell_type": "code",
   "outputs": [],
   "execution_count": null,
   "source": [
    "# Load covertype dataset\n",
    "data = fetch_covtype()\n",
    "\n",
    "# Extract features and target variable\n",
    "X = data.data  # features\n",
    "y = data.target  # target labels\n",
    "\n",
    "# Split the dataset into 80% train set and 20% test set\n",
    "X_train, X_test, y_train, y_test = train_test_split(X, y, test_size=0.2, random_state=42)"
   ],
   "id": "a6c86e7705acef10"
  },
  {
   "metadata": {},
   "cell_type": "markdown",
   "source": [
    "## Workshop 6 review task:\n",
    "\n",
    "(Optional: If you didn't come to workshop 6 or you don't know what is linear regression, you can skip this exercise)\n",
    "\n",
    "TODO: \n",
    "\n",
    "use linear regression to train model by using the train set, and then test accuracy on the test set\n",
    "\n",
    "Think: how would you preprocess the data?"
   ],
   "id": "73d96737d95a7580"
  },
  {
   "cell_type": "code",
   "execution_count": null,
   "id": "initial_id",
   "metadata": {
    "collapsed": true
   },
   "outputs": [],
   "source": "# TODO: write your code here"
  },
  {
   "metadata": {},
   "cell_type": "markdown",
   "source": [
    "## Decision Tree for classification\n",
    "\n",
    "TODO: use a decision tree to predict which covertype does the given data belong to"
   ],
   "id": "a43d6bcdd3322c9e"
  },
  {
   "metadata": {},
   "cell_type": "markdown",
   "source": [
    "TODO: use xx method in sklearn (link) \n",
    "\n",
    "intro each param, what does it mean? how would it affect the rlt?"
   ],
   "id": "2eab438d1963ad0b"
  },
  {
   "metadata": {},
   "cell_type": "code",
   "outputs": [],
   "execution_count": null,
   "source": "# TODO: code",
   "id": "d28ceb4011bee113"
  },
  {
   "metadata": {},
   "cell_type": "markdown",
   "source": "(add a lightbulb emoji before each \"Think\") Think: compared to linear regression, which has a higher accuracy in this prediction task? What causes the differences?",
   "id": "acae22c536b33874"
  },
  {
   "metadata": {},
   "cell_type": "markdown",
   "source": [
    "## How do we choose a model\n",
    "TODO:\n",
    "- validation set (divide from the train set, 20% for example)\n",
    "- gird search (need intro of grid search)\n",
    "- Bayesian search\n",
    "- ..."
   ],
   "id": "fd9d20ad93edfe3c"
  },
  {
   "metadata": {},
   "cell_type": "markdown",
   "source": "## Using Grid search to choose the \"best\" model",
   "id": "c52619745770032a"
  },
  {
   "metadata": {},
   "cell_type": "code",
   "outputs": [],
   "execution_count": null,
   "source": "# TODO: code",
   "id": "210b2d19460cf780"
  },
  {
   "metadata": {},
   "cell_type": "code",
   "outputs": [],
   "execution_count": null,
   "source": "# TODO: test the accuracy on the test set",
   "id": "ef1d0d9506d239f6"
  },
  {
   "metadata": {},
   "cell_type": "markdown",
   "source": "",
   "id": "59adcb4cfa142f6f"
  },
  {
   "metadata": {},
   "cell_type": "markdown",
   "source": [
    "# Random Forest\n",
    "\n",
    "TODO: intro"
   ],
   "id": "845bf34b479b5e2c"
  },
  {
   "metadata": {},
   "cell_type": "markdown",
   "source": "TODO: method, params in the method (what does it mean? how would it affect the rlt?)",
   "id": "e0662fd9a79403e6"
  },
  {
   "metadata": {},
   "cell_type": "code",
   "outputs": [],
   "execution_count": null,
   "source": "# TODO: code",
   "id": "ed94442565942b27"
  },
  {
   "metadata": {},
   "cell_type": "markdown",
   "source": "Think: compared to a single decision tree, which has a higher accuracy in this prediction task? What do you think is the reason behind this? Would it always hold in all tasks and situations?",
   "id": "a06ff8ab00725dc5"
  },
  {
   "metadata": {},
   "cell_type": "markdown",
   "source": [
    "# Optional Task\n",
    " \n",
    "Compared test accuracy of decision trees by using preprocessed data and unpreprocessed(is this a word?) data, how is the results? Why?"
   ],
   "id": "600fc9f2d85e3754"
  },
  {
   "metadata": {},
   "cell_type": "code",
   "outputs": [],
   "execution_count": null,
   "source": "# TODO: write your codes here",
   "id": "fe45e3a731dfec42"
  }
 ],
 "metadata": {
  "kernelspec": {
   "display_name": "Python 3",
   "language": "python",
   "name": "python3"
  },
  "language_info": {
   "codemirror_mode": {
    "name": "ipython",
    "version": 2
   },
   "file_extension": ".py",
   "mimetype": "text/x-python",
   "name": "python",
   "nbconvert_exporter": "python",
   "pygments_lexer": "ipython2",
   "version": "2.7.6"
  }
 },
 "nbformat": 4,
 "nbformat_minor": 5
}
