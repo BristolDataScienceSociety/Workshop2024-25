{
 "cells": [
  {
   "cell_type": "markdown",
   "id": "38169846",
   "metadata": {},
   "source": [
    "# Python Workshop 3: The NumPy Workshop\n",
    "\n",
    "## 0. Recap of workshop 2: Data Structures & Object-Oriented Programming (OOP)\n",
    "\n",
    "**If you missed the previous workshop,** go back to the repository to find the Workshop 2.\n",
    "\n",
    "Or hear me talk for 10 minutes :3\n",
    "\n",
    "### Data Structures\n",
    "\n",
    "**Lists, Tuples, Sets, and Dictionaries** are the core data structures in Python, each useful for storing and managing collections of data.\n",
    "\n",
    "- **Lists** are ordered, mutable collections. You can add, remove, or change items."
   ]
  },
  {
   "cell_type": "code",
   "execution_count": 1,
   "id": "a140f304",
   "metadata": {},
   "outputs": [
    {
     "name": "stdout",
     "output_type": "stream",
     "text": [
      "['apple', 'banana', 'cherry', 'orange']\n"
     ]
    }
   ],
   "source": [
    "fruits = [\"apple\", \"banana\", \"cherry\"]\n",
    "fruits.append(\"orange\")\n",
    "print(fruits)  # ['apple', 'banana', 'cherry', 'orange']"
   ]
  },
  {
   "cell_type": "markdown",
   "id": "5a9ebf05",
   "metadata": {},
   "source": [
    "- **Tuples** are like lists, but immutable—once you create them, they can’t be changed."
   ]
  },
  {
   "cell_type": "code",
   "execution_count": 2,
   "id": "7ff7079b",
   "metadata": {},
   "outputs": [
    {
     "name": "stdout",
     "output_type": "stream",
     "text": [
      "(10, 20)\n"
     ]
    }
   ],
   "source": [
    "coordinates = (10, 20)\n",
    "# coordinates[0] = 15  # This would raise an error: TypeError: 'tuple' object does not support item assignment\n",
    "print(coordinates)  # (10, 20)"
   ]
  },
  {
   "cell_type": "markdown",
   "id": "a6aebefc",
   "metadata": {},
   "source": [
    "- **Sets** are unordered collections with no duplicates, useful for checking membership or uniqueness."
   ]
  },
  {
   "cell_type": "code",
   "execution_count": 3,
   "id": "3e3d66eb",
   "metadata": {},
   "outputs": [
    {
     "name": "stdout",
     "output_type": "stream",
     "text": [
      "{1, 2, 3}\n"
     ]
    }
   ],
   "source": [
    "unique_numbers = {1, 2, 3, 2}\n",
    "print(unique_numbers)  # {1, 2, 3}"
   ]
  },
  {
   "cell_type": "markdown",
   "id": "93bf8140",
   "metadata": {},
   "source": [
    "- **Dictionaries** store key-value pairs, useful for looking up data based on unique keys."
   ]
  },
  {
   "cell_type": "code",
   "execution_count": 4,
   "id": "00ee2f72",
   "metadata": {},
   "outputs": [
    {
     "name": "stdout",
     "output_type": "stream",
     "text": [
      "Lumi\n"
     ]
    }
   ],
   "source": [
    "student = {\"name\": \"Lumi\", \"age\": 22}\n",
    "print(student[\"name\"])  # Lumi"
   ]
  },
  {
   "cell_type": "markdown",
   "id": "6478bea7",
   "metadata": {},
   "source": [
    "### Object-Oriented Programming (OOP)\n",
    "\n",
    "OOP helps us create **classes** that bundle related data (attributes) and functions (methods) together, offering better code organization and reuse.\n",
    "\n",
    "- **Classes** define a blueprint for creating objects.\n",
    "\n",
    "\n",
    "- **Encapsulation**: Hides internal details. Use methods to interact with object data safely."
   ]
  },
  {
   "cell_type": "code",
   "execution_count": 5,
   "id": "b336e82d",
   "metadata": {},
   "outputs": [
    {
     "name": "stdout",
     "output_type": "stream",
     "text": [
      "Rex says Woof!\n"
     ]
    }
   ],
   "source": [
    "class Dog:\n",
    "    def __init__(self, name):\n",
    "        self.name = name\n",
    "        \n",
    "    def bark(self):\n",
    "        return f\"{self.name} says Woof!\"\n",
    "    \n",
    "my_dog = Dog(\"Rex\")\n",
    "print(my_dog.bark())  # Rex says Woof!"
   ]
  },
  {
   "cell_type": "markdown",
   "id": "f6eaef0b",
   "metadata": {},
   "source": [
    "- **Inheritance**: One class can inherit attributes and methods from another, promoting code reuse.\n",
    "\n",
    "\n",
    "- **Polymorphism**: Different classes can share the same method names but implement them differently."
   ]
  },
  {
   "cell_type": "code",
   "execution_count": 6,
   "id": "b78adba0",
   "metadata": {},
   "outputs": [
    {
     "name": "stdout",
     "output_type": "stream",
     "text": [
      "Rex says Woof!\n",
      "Whiskers says Meow!\n"
     ]
    }
   ],
   "source": [
    "class Animal:\n",
    "    def __init__(self, name):\n",
    "        self.name = name\n",
    "\n",
    "    def speak(self):\n",
    "        pass\n",
    "\n",
    "class Dog(Animal):\n",
    "    def speak(self):\n",
    "        return f\"{self.name} says Woof!\"\n",
    "\n",
    "class Cat(Animal):\n",
    "    def speak(self):\n",
    "        return f\"{self.name} says Meow!\"\n",
    "\n",
    "# Polymorphism\n",
    "animals = [Dog(\"Rex\"), Cat(\"Whiskers\")]\n",
    "\n",
    "for animal in animals:\n",
    "    print(animal.speak())"
   ]
  },
  {
   "cell_type": "markdown",
   "id": "36785ee2",
   "metadata": {},
   "source": [
    "## 1. Introduction of NumPy"
   ]
  },
  {
   "cell_type": "markdown",
   "id": "f509707a",
   "metadata": {},
   "source": [
    "### Installing and importing NumPy"
   ]
  },
  {
   "cell_type": "code",
   "execution_count": 7,
   "id": "e438d863",
   "metadata": {},
   "outputs": [
    {
     "name": "stdout",
     "output_type": "stream",
     "text": [
      "Requirement already satisfied: numpy in c:\\users\\long\\anaconda3\\lib\\site-packages (1.24.3)Note: you may need to restart the kernel to use updated packages.\n"
     ]
    },
    {
     "name": "stderr",
     "output_type": "stream",
     "text": [
      "WARNING: Ignoring invalid distribution -rotobuf (c:\\users\\long\\appdata\\roaming\\python\\python39\\site-packages)\n",
      "WARNING: Ignoring invalid distribution -rotobuf (c:\\users\\long\\appdata\\roaming\\python\\python39\\site-packages)\n",
      "WARNING: Ignoring invalid distribution -rotobuf (c:\\users\\long\\appdata\\roaming\\python\\python39\\site-packages)\n",
      "WARNING: Ignoring invalid distribution -rotobuf (c:\\users\\long\\appdata\\roaming\\python\\python39\\site-packages)\n",
      "WARNING: Ignoring invalid distribution -rotobuf (c:\\users\\long\\appdata\\roaming\\python\\python39\\site-packages)\n",
      "WARNING: Ignoring invalid distribution -rotobuf (c:\\users\\long\\appdata\\roaming\\python\\python39\\site-packages)\n"
     ]
    },
    {
     "name": "stdout",
     "output_type": "stream",
     "text": [
      "\n"
     ]
    }
   ],
   "source": [
    "pip install numpy"
   ]
  },
  {
   "cell_type": "code",
   "execution_count": 8,
   "id": "327d0568",
   "metadata": {},
   "outputs": [],
   "source": [
    "import numpy as np"
   ]
  },
  {
   "cell_type": "markdown",
   "id": "3592d2ba",
   "metadata": {},
   "source": [
    "### What is NumPy?\n",
    "\n",
    "NumPy is an optimized Python library for scientific computing that efficiently handles large multidimensional arrays and matrices. It provides fast, vectorized operations and a variety of mathematical functions, enabling improved performance over traditional Python lists. With its core data structure, the `ndarray`, NumPy allows for efficient storage and computation of homogeneous data types, making it essential for data analysis and numerical calculations in Python."
   ]
  },
  {
   "cell_type": "markdown",
   "id": "e331a5e8",
   "metadata": {},
   "source": [
    "The following code demonstrates the performance advantage of NumPy by comparing the execution time of summing large datasets using native **Python lists** versus **NumPy arrays**."
   ]
  },
  {
   "cell_type": "code",
   "execution_count": 9,
   "id": "49430e50",
   "metadata": {},
   "outputs": [
    {
     "name": "stdout",
     "output_type": "stream",
     "text": [
      "<class 'list'>\n",
      "sum_native_python took 0.03500 seconds to execute.\n",
      "<class 'numpy.ndarray'>\n",
      "sum_numpy took 0.00300 seconds to execute.\n"
     ]
    },
    {
     "data": {
      "text/plain": [
       "1783293664"
      ]
     },
     "execution_count": 9,
     "metadata": {},
     "output_type": "execute_result"
    }
   ],
   "source": [
    "import time\n",
    "import numpy as np  # Import NumPy for numerical operations\n",
    "\n",
    "def time_logger(func):\n",
    "    \"\"\"\n",
    "    Decorator to log the execution time of a function.\n",
    "    \"\"\"\n",
    "    def wrapper(*args, **kwargs):\n",
    "        start_time = time.time()  # Start time\n",
    "        result = func(*args, **kwargs)  # Call the function\n",
    "        end_time = time.time()  # End time\n",
    "        print(f\"{func.__name__} took {end_time - start_time:.5f} seconds to execute.\")\n",
    "        return result  # Return the result\n",
    "    return wrapper\n",
    "\n",
    "@time_logger\n",
    "def sum_native_python(numbers: list[int]) -> int:\n",
    "    \"\"\"Sums a list of numbers using native Python.\"\"\"\n",
    "    return sum(numbers)\n",
    "\n",
    "@time_logger\n",
    "def sum_numpy(numbers: np.array) -> np.float64:\n",
    "    \"\"\"Sums an array of numbers using NumPy.\"\"\"\n",
    "    return np.sum(numbers)\n",
    "\n",
    "# Creating test data\n",
    "large_list = list(range(1, 1000000))  # List of numbers from 1 to 999,999\n",
    "large_array = np.array(large_list)  # Convert list to NumPy array\n",
    "\n",
    "# Compare performance\n",
    "print(type(large_list))  # Print type of the list\n",
    "sum_native_python(large_list)  # Sum using native Python\n",
    "print(type(large_array))  # Print type of the NumPy array\n",
    "sum_numpy(large_array)  # Sum using NumPy"
   ]
  },
  {
   "cell_type": "markdown",
   "id": "7b191f68",
   "metadata": {},
   "source": [
    "### Why is NumPy Faster?\n",
    "- Implementation of the data structure is often written done in C\n",
    "\n",
    "\n",
    "- In NumPy, operations are vectorized (meaning that they operate on entire arrays at once, rather than element by element), whereas native Python iterates over elements, which is inherently slower.\n",
    "\n",
    "\n",
    "- Numpy uses Dynamic Arrays where each element is stored contiguously (in other words write next to each other in memory). Python lists use an Array of pointers which means the machine has to follow each pointer to where the data is stored.\n",
    "\n",
    "![array_diagram.png](data:image/png;base64,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)"
   ]
  },
  {
   "cell_type": "markdown",
   "id": "c0e6778f",
   "metadata": {},
   "source": [
    "### What is a 'NumPy Array'?\n",
    "\n",
    "In computer programming, an array is a structure for storing and retrieving data.\n",
    "\n",
    "In NumPy, this idea is generalized to an arbitrary number of dimensions, and so the fundamental array class is called `ndarray`: it represents an \"N-dimensional array\".\n",
    "\n",
    "The NumPy \"N-dimensional array\" object, `ndarray`, has several important attributes that provide information about the array's structure and data including `ndim`, `shape`, `size` and `dtype`.\n",
    "\n",
    "Let's create an array first, we will talk about the approach to create one later."
   ]
  },
  {
   "cell_type": "code",
   "execution_count": 10,
   "id": "03c18cdc",
   "metadata": {},
   "outputs": [
    {
     "data": {
      "text/plain": [
       "array([[ 1,  2,  3,  4,  5,  6],\n",
       "       [ 7,  8,  9, 10, 11, 12]])"
      ]
     },
     "execution_count": 10,
     "metadata": {},
     "output_type": "execute_result"
    }
   ],
   "source": [
    "array = np.array([[1, 2, 3, 4, 5, 6],[7, 8, 9, 10, 11, 12]])\n",
    "array"
   ]
  },
  {
   "cell_type": "markdown",
   "id": "0738d5de",
   "metadata": {},
   "source": [
    "The number of dimensions of an array is contained in the `ndim` attribute."
   ]
  },
  {
   "cell_type": "code",
   "execution_count": 11,
   "id": "46555622",
   "metadata": {},
   "outputs": [
    {
     "data": {
      "text/plain": [
       "2"
      ]
     },
     "execution_count": 11,
     "metadata": {},
     "output_type": "execute_result"
    }
   ],
   "source": [
    "array.ndim"
   ]
  },
  {
   "cell_type": "markdown",
   "id": "60dc22c1",
   "metadata": {},
   "source": [
    "The `shape` of an array is a tuple of non-negative integers that specify the number of elements along each dimension."
   ]
  },
  {
   "cell_type": "code",
   "execution_count": 12,
   "id": "34de7b78",
   "metadata": {},
   "outputs": [
    {
     "data": {
      "text/plain": [
       "(2, 6)"
      ]
     },
     "execution_count": 12,
     "metadata": {},
     "output_type": "execute_result"
    }
   ],
   "source": [
    "array.shape #(2, 6)"
   ]
  },
  {
   "cell_type": "code",
   "execution_count": 13,
   "id": "9da3978e",
   "metadata": {},
   "outputs": [
    {
     "data": {
      "text/plain": [
       "True"
      ]
     },
     "execution_count": 13,
     "metadata": {},
     "output_type": "execute_result"
    }
   ],
   "source": [
    "len(array.shape) == array.ndim #True"
   ]
  },
  {
   "cell_type": "markdown",
   "id": "92142b6a",
   "metadata": {},
   "source": [
    "The fixed, total number of elements in array is contained in the `size` attribute."
   ]
  },
  {
   "cell_type": "code",
   "execution_count": 14,
   "id": "3317d341",
   "metadata": {},
   "outputs": [
    {
     "data": {
      "text/plain": [
       "12"
      ]
     },
     "execution_count": 14,
     "metadata": {},
     "output_type": "execute_result"
    }
   ],
   "source": [
    "array.size #12"
   ]
  },
  {
   "cell_type": "code",
   "execution_count": 15,
   "id": "d484e894",
   "metadata": {},
   "outputs": [
    {
     "data": {
      "text/plain": [
       "True"
      ]
     },
     "execution_count": 15,
     "metadata": {},
     "output_type": "execute_result"
    }
   ],
   "source": [
    "import math\n",
    "# math.prod() method returns the product of the elements from the given iterable\n",
    "array.size == math.prod(array.shape) #True"
   ]
  },
  {
   "cell_type": "markdown",
   "id": "7a36424d",
   "metadata": {},
   "source": [
    "Arrays are typically “homogeneous”, meaning that they contain elements of only one “data type”. The data type is recorded in the `dtype` attribute."
   ]
  },
  {
   "cell_type": "code",
   "execution_count": 16,
   "id": "e79eb3a2",
   "metadata": {},
   "outputs": [
    {
     "data": {
      "text/plain": [
       "dtype('int32')"
      ]
     },
     "execution_count": 16,
     "metadata": {},
     "output_type": "execute_result"
    }
   ],
   "source": [
    "array.dtype # \"int\" for integer, \"32\" for 32-bit"
   ]
  },
  {
   "cell_type": "markdown",
   "id": "164eb9be",
   "metadata": {},
   "source": [
    "### How to create a basic array\n",
    "There are several ways to create arrays.\n",
    "\n",
    "For example, you can create an array(a ndarray object) from a regular Python list or tuple using the `array()` function like the above. The type of the resulting array is deduced from the type of the elements in the sequences."
   ]
  },
  {
   "cell_type": "code",
   "execution_count": 17,
   "id": "9b4126b7",
   "metadata": {},
   "outputs": [],
   "source": [
    "a = np.array([1, 2, 3])"
   ]
  },
  {
   "cell_type": "code",
   "execution_count": 18,
   "id": "d43297e7",
   "metadata": {},
   "outputs": [
    {
     "data": {
      "text/plain": [
       "dtype('int32')"
      ]
     },
     "execution_count": 18,
     "metadata": {},
     "output_type": "execute_result"
    }
   ],
   "source": [
    "a.dtype"
   ]
  },
  {
   "cell_type": "code",
   "execution_count": 19,
   "id": "e76f5c86",
   "metadata": {},
   "outputs": [],
   "source": [
    "b = np.array([1.2, 3.5, 5.1])"
   ]
  },
  {
   "cell_type": "code",
   "execution_count": 20,
   "id": "1f7eb874",
   "metadata": {},
   "outputs": [
    {
     "data": {
      "text/plain": [
       "dtype('float64')"
      ]
     },
     "execution_count": 20,
     "metadata": {},
     "output_type": "execute_result"
    }
   ],
   "source": [
    "b.dtype"
   ]
  },
  {
   "cell_type": "markdown",
   "id": "52c131cd",
   "metadata": {},
   "source": [
    "Besides creating an array from a sequence of elements, you can easily create an array filled with `0`’s specifying the shape by inputting a number or tuple:"
   ]
  },
  {
   "cell_type": "code",
   "execution_count": 21,
   "id": "2296090c",
   "metadata": {},
   "outputs": [
    {
     "data": {
      "text/plain": [
       "array([[0., 0., 0., 0.],\n",
       "       [0., 0., 0., 0.],\n",
       "       [0., 0., 0., 0.]])"
      ]
     },
     "execution_count": 21,
     "metadata": {},
     "output_type": "execute_result"
    }
   ],
   "source": [
    "np.zeros((3, 4))"
   ]
  },
  {
   "cell_type": "markdown",
   "id": "0f018ace",
   "metadata": {},
   "source": [
    "Or an array filled with `1`’s:"
   ]
  },
  {
   "cell_type": "code",
   "execution_count": 22,
   "id": "9bf9c24b",
   "metadata": {},
   "outputs": [
    {
     "data": {
      "text/plain": [
       "array([[1., 1., 1., 1.],\n",
       "       [1., 1., 1., 1.],\n",
       "       [1., 1., 1., 1.]])"
      ]
     },
     "execution_count": 22,
     "metadata": {},
     "output_type": "execute_result"
    }
   ],
   "source": [
    "np.ones((3, 4))"
   ]
  },
  {
   "cell_type": "markdown",
   "id": "ce364212",
   "metadata": {},
   "source": [
    "To create sequences of numbers, NumPy provides the `arange()` function which is analogous to the Python built-in range, but returns an array."
   ]
  },
  {
   "cell_type": "code",
   "execution_count": 23,
   "id": "d2995572",
   "metadata": {},
   "outputs": [
    {
     "data": {
      "text/plain": [
       "array([10, 15, 20, 25])"
      ]
     },
     "execution_count": 23,
     "metadata": {},
     "output_type": "execute_result"
    }
   ],
   "source": [
    "np.arange(10, 30, 5) # Generates a 1D array with values starting from 10, up to (but not including) 30, with a step of 5"
   ]
  },
  {
   "cell_type": "code",
   "execution_count": 24,
   "id": "ff487d53",
   "metadata": {},
   "outputs": [
    {
     "data": {
      "text/plain": [
       "array([0. , 0.3, 0.6, 0.9, 1.2, 1.5, 1.8])"
      ]
     },
     "execution_count": 24,
     "metadata": {},
     "output_type": "execute_result"
    }
   ],
   "source": [
    "np.arange(0, 2, 0.3)  # it accepts float arguments"
   ]
  },
  {
   "cell_type": "markdown",
   "id": "ad385682",
   "metadata": {},
   "source": [
    "When `arange()` is used with floating point arguments, it is generally not possible to predict the number of elements obtained, due to the finite floating point precision. \n",
    "\n",
    "For this reason, it is usually better to use the function `linspace()` that receives as an argument the number of elements that we want, instead of the step:"
   ]
  },
  {
   "cell_type": "code",
   "execution_count": 25,
   "id": "75140575",
   "metadata": {},
   "outputs": [
    {
     "data": {
      "text/plain": [
       "array([0.  , 0.25, 0.5 , 0.75, 1.  , 1.25, 1.5 , 1.75, 2.  ])"
      ]
     },
     "execution_count": 25,
     "metadata": {},
     "output_type": "execute_result"
    }
   ],
   "source": [
    "np.linspace(0, 2, 9) # 9 numbers from 0 to 2"
   ]
  },
  {
   "cell_type": "markdown",
   "id": "cfba0d78",
   "metadata": {},
   "source": [
    "You can create an array of a specified size filled with random numbers uniformly distributed between 0 and 1 using `random.random()`"
   ]
  },
  {
   "cell_type": "code",
   "execution_count": 26,
   "id": "ca060591",
   "metadata": {},
   "outputs": [
    {
     "data": {
      "text/plain": [
       "array([[0.54023014, 0.49746939],\n",
       "       [0.1401081 , 0.00636515],\n",
       "       [0.03889312, 0.8877046 ],\n",
       "       [0.88636739, 0.73570177],\n",
       "       [0.9020145 , 0.16000497],\n",
       "       [0.4505672 , 0.6579213 ]])"
      ]
     },
     "execution_count": 26,
     "metadata": {},
     "output_type": "execute_result"
    }
   ],
   "source": [
    "np.random.random((6, 2)) # Generates a 6x2 array of random floats between 0 and 1"
   ]
  },
  {
   "cell_type": "markdown",
   "id": "ba11b894",
   "metadata": {},
   "source": [
    "You can also create an array of a specified size filled with random numbers that follow standard normal distribution (mean 0 and variance 1) using `random.randn()`."
   ]
  },
  {
   "cell_type": "code",
   "execution_count": 27,
   "id": "9f1e34ac",
   "metadata": {},
   "outputs": [
    {
     "data": {
      "text/plain": [
       "array([[ 0.11623124, -1.01415083],\n",
       "       [-0.68885928, -0.29284135],\n",
       "       [-0.28002148, -1.65259302],\n",
       "       [ 0.68857119, -1.50829316],\n",
       "       [ 0.57851182,  1.80315378],\n",
       "       [ 0.25837522,  1.42798877]])"
      ]
     },
     "execution_count": 27,
     "metadata": {},
     "output_type": "execute_result"
    }
   ],
   "source": [
    "np.random.randn(6,2) # Generates a 6x2 array of random numbers from a standard normal distribution (mean=0, variance=1)"
   ]
  },
  {
   "cell_type": "markdown",
   "id": "7c064e86",
   "metadata": {},
   "source": [
    "Eventually, you can create an array using np.fromfunction, which allows you to generate values based on their indices. This function executes a specified function over each coordinate in the desired shape, making it a powerful tool for generating structured arrays without needing to write explicit loops."
   ]
  },
  {
   "cell_type": "code",
   "execution_count": 28,
   "id": "011fb7e4",
   "metadata": {},
   "outputs": [
    {
     "data": {
      "text/plain": [
       "array([[ 0,  1,  2,  3],\n",
       "       [10, 11, 12, 13],\n",
       "       [20, 21, 22, 23],\n",
       "       [30, 31, 32, 33],\n",
       "       [40, 41, 42, 43]])"
      ]
     },
     "execution_count": 28,
     "metadata": {},
     "output_type": "execute_result"
    }
   ],
   "source": [
    "def f(x, y):\n",
    "    return 10 * x + y\n",
    "\n",
    "b = np.fromfunction(f, (5, 4), dtype=int)\n",
    "b"
   ]
  },
  {
   "cell_type": "markdown",
   "id": "ae04e48a",
   "metadata": {},
   "source": [
    "### Basic Arithmetic Operations\n",
    "\n",
    "Arithmetic operators on arrays apply elementwise. A new array is created and filled with the result."
   ]
  },
  {
   "cell_type": "code",
   "execution_count": 29,
   "id": "c00e1ee0",
   "metadata": {},
   "outputs": [
    {
     "data": {
      "text/plain": [
       "array([20, 29, 38, 47])"
      ]
     },
     "execution_count": 29,
     "metadata": {},
     "output_type": "execute_result"
    }
   ],
   "source": [
    "a = np.array([20, 30, 40, 50])\n",
    "b = np.arange(4)\n",
    "c = a - b # Subtracts array 'b' from array 'a' element-wise and stores the result in array 'c'\n",
    "c # array([20, 29, 38, 47])"
   ]
  },
  {
   "cell_type": "code",
   "execution_count": 30,
   "id": "8f7f1d5c",
   "metadata": {},
   "outputs": [
    {
     "data": {
      "text/plain": [
       "array([0, 1, 4, 9], dtype=int32)"
      ]
     },
     "execution_count": 30,
     "metadata": {},
     "output_type": "execute_result"
    }
   ],
   "source": [
    "b**2 # Squares each element in the array 'b'"
   ]
  },
  {
   "cell_type": "code",
   "execution_count": 31,
   "id": "3d6e8498",
   "metadata": {},
   "outputs": [
    {
     "data": {
      "text/plain": [
       "array([ 9.12945251, -9.88031624,  7.4511316 , -2.62374854])"
      ]
     },
     "execution_count": 31,
     "metadata": {},
     "output_type": "execute_result"
    }
   ],
   "source": [
    "10 * np.sin(a) # Multiplies each element in the array 'a' by 10, after applying the sine function"
   ]
  },
  {
   "cell_type": "code",
   "execution_count": 32,
   "id": "7da33e78",
   "metadata": {},
   "outputs": [
    {
     "data": {
      "text/plain": [
       "array([ True,  True, False, False])"
      ]
     },
     "execution_count": 32,
     "metadata": {},
     "output_type": "execute_result"
    }
   ],
   "source": [
    "a < 35 # Returns a boolean array where each element indicates whether the corresponding element in array 'a' is less than 35"
   ]
  },
  {
   "cell_type": "markdown",
   "id": "6cd636b8",
   "metadata": {},
   "source": [
    "Unlike in many matrix languages, the product operator `*` operates elementwise in NumPy arrays. The matrix product can be performed using the `@` operator (in python >=3.5) or the `dot` function or method:"
   ]
  },
  {
   "cell_type": "code",
   "execution_count": 33,
   "id": "5fde8853",
   "metadata": {},
   "outputs": [
    {
     "data": {
      "text/plain": [
       "array([[2, 0],\n",
       "       [0, 4]])"
      ]
     },
     "execution_count": 33,
     "metadata": {},
     "output_type": "execute_result"
    }
   ],
   "source": [
    "A = np.array([[1, 1],\n",
    "              [0, 1]])\n",
    "B = np.array([[2, 0],\n",
    "              [3, 4]])\n",
    "A * B     # elementwise product"
   ]
  },
  {
   "cell_type": "code",
   "execution_count": 34,
   "id": "5f993f29",
   "metadata": {},
   "outputs": [
    {
     "data": {
      "text/plain": [
       "array([[5, 4],\n",
       "       [3, 4]])"
      ]
     },
     "execution_count": 34,
     "metadata": {},
     "output_type": "execute_result"
    }
   ],
   "source": [
    "A @ B     # matrix product"
   ]
  },
  {
   "cell_type": "code",
   "execution_count": 35,
   "id": "446ca2b3",
   "metadata": {},
   "outputs": [
    {
     "data": {
      "text/plain": [
       "True"
      ]
     },
     "execution_count": 35,
     "metadata": {},
     "output_type": "execute_result"
    }
   ],
   "source": [
    "# Checks if matrix multiplication using '@' operator and 'dot()' method for arrays A and B are equivalent\n",
    "# And returns True if all elements are the same\n",
    "(A @ B == A.dot(B)).all()"
   ]
  },
  {
   "cell_type": "markdown",
   "id": "ef5acfe3",
   "metadata": {},
   "source": [
    "Some operations, such as `+=` and `*=`, act in place to modify an existing array rather than create a new one."
   ]
  },
  {
   "cell_type": "code",
   "execution_count": 36,
   "id": "96aee8eb",
   "metadata": {},
   "outputs": [
    {
     "name": "stdout",
     "output_type": "stream",
     "text": [
      "Array 'a' after multiplying by 3:\n",
      " [[3 3 3]\n",
      " [3 3 3]]\n",
      "\n",
      "Array 'b' after adding 'a':\n",
      " [[3.37454012 3.95071431 3.73199394]\n",
      " [3.59865848 3.15601864 3.15599452]]\n",
      "\n",
      "Error when adding 'b' to 'a': Cannot cast ufunc 'add' output from dtype('float64') to dtype('int32') with casting rule 'same_kind'\n",
      "\n",
      "Final values:\n",
      "Array 'a':\n",
      " [[3 3 3]\n",
      " [3 3 3]]\n",
      "Array 'b':\n",
      " [[3.37454012 3.95071431 3.73199394]\n",
      " [3.59865848 3.15601864 3.15599452]]\n"
     ]
    }
   ],
   "source": [
    "# Create an instance of the default random number generator\n",
    "np.random.seed(42)\n",
    "\n",
    "# Initialize arrays 'a' and 'b'\n",
    "a = np.ones((2, 3), dtype=int)  # Array of ones (2x3), dtype=int\n",
    "b = np.random.random((2, 3))  # Array of random floats (2x3)\n",
    "\n",
    "# Multiply each element in 'a' by 3\n",
    "a *= 3\n",
    "print(\"Array 'a' after multiplying by 3:\\n\", a)\n",
    "\n",
    "# Add 'a' to 'b' element-wise\n",
    "b += a\n",
    "print(\"\\nArray 'b' after adding 'a':\\n\", b)\n",
    "\n",
    "# Try to add 'b' to 'a' (this will raise an error because the data types don't match)\n",
    "try:\n",
    "    a += b\n",
    "except TypeError as e:\n",
    "    print(\"\\nError when adding 'b' to 'a':\", e)\n",
    "\n",
    "# Final values of 'a' and 'b'\n",
    "print(\"\\nFinal values:\")\n",
    "print(\"Array 'a':\\n\", a)\n",
    "print(\"Array 'b':\\n\", b)"
   ]
  },
  {
   "cell_type": "markdown",
   "id": "758d92b2",
   "metadata": {},
   "source": [
    "When operating with arrays of different types, the type of the resulting array corresponds to the more general or precise one (a behavior known as upcasting)."
   ]
  },
  {
   "cell_type": "code",
   "execution_count": 37,
   "id": "c1831898",
   "metadata": {},
   "outputs": [
    {
     "data": {
      "text/plain": [
       "'float64'"
      ]
     },
     "execution_count": 37,
     "metadata": {},
     "output_type": "execute_result"
    }
   ],
   "source": [
    "a = np.ones(3, dtype=np.int32)\n",
    "b = np.linspace(0, 1, 3)\n",
    "b.dtype.name"
   ]
  },
  {
   "cell_type": "code",
   "execution_count": 38,
   "id": "05e284e3",
   "metadata": {},
   "outputs": [
    {
     "data": {
      "text/plain": [
       "'float64'"
      ]
     },
     "execution_count": 38,
     "metadata": {},
     "output_type": "execute_result"
    }
   ],
   "source": [
    "c = a + b\n",
    "c.dtype.name"
   ]
  },
  {
   "cell_type": "code",
   "execution_count": 39,
   "id": "704cb5d0",
   "metadata": {},
   "outputs": [
    {
     "data": {
      "text/plain": [
       "'complex128'"
      ]
     },
     "execution_count": 39,
     "metadata": {},
     "output_type": "execute_result"
    }
   ],
   "source": [
    "d = c * 1j\n",
    "d.dtype.name"
   ]
  },
  {
   "cell_type": "markdown",
   "id": "3ee63e8e",
   "metadata": {},
   "source": [
    "### Broadcasting\n",
    "\n",
    "Broadcasting in NumPy refers to how arrays with different shapes are handled during arithmetic operations. \n",
    "\n",
    "Under certain conditions, a smaller array is \"broadcast\" across a larger array to make their shapes compatible. This allows for vectorized operations, enabling faster computation in C rather than slower Python loops, without unnecessary data copies. \n",
    "\n",
    "Typically, NumPy operations are performed element-wise on pairs of arrays."
   ]
  },
  {
   "cell_type": "markdown",
   "id": "9e00e94c",
   "metadata": {},
   "source": [
    "### Broadcasting Rule:\n",
    "\n",
    "Here are the broadcasting rules in NumPy:\n",
    "\n",
    "1. **Dimension Compatibility**: Two arrays can be broadcast together if their dimensions are compatible. This is true when:\n",
    "   - The dimensions are equal, or\n",
    "   \n",
    "   - One of the dimensions is 1 (the smaller array can be stretched to match the larger array's dimension).\n",
    "   \n",
    "\n",
    "2. **Aligning Dimensions**: If the arrays have different numbers of dimensions, the shape of the smaller array is padded with ones on the left side until both shapes are the same length.\n",
    "\n",
    "3. **Broadcasting**:\n",
    "   - If the dimensions of the two arrays are the same, they can be broadcast together.\n",
    "   \n",
    "   - If one of the dimensions is 1, that dimension is stretched to match the other dimension.\n",
    "   \n",
    "   - If a dimension is missing in one array (because it has fewer dimensions), it is treated as having a size of 1 for broadcasting purposes.\n",
    "\n",
    "\n",
    "4. **Resulting Shape**: The resulting shape of the broadcasted array will be the maximum size along each dimension from the input arrays."
   ]
  },
  {
   "attachments": {
    "broadcasting_1.png": {
     "image/png": "[encoded data removed]"
    }
   },
   "cell_type": "markdown",
   "id": "875a4e98",
   "metadata": {},
   "source": [
    "![broadcasting_1.png](attachment:broadcasting_1.png)"
   ]
  },
  {
   "cell_type": "code",
   "execution_count": 40,
   "id": "bbda750b",
   "metadata": {},
   "outputs": [
    {
     "data": {
      "text/plain": [
       "array([2., 4., 6.])"
      ]
     },
     "execution_count": 40,
     "metadata": {},
     "output_type": "execute_result"
    }
   ],
   "source": [
    "a = np.array([1.0, 2.0, 3.0])\n",
    "b = 2.0\n",
    "a * b"
   ]
  },
  {
   "attachments": {
    "broadcasting_2.png": {
     "image/png": "[encoded data removed]"
    }
   },
   "cell_type": "markdown",
   "id": "dbb54333",
   "metadata": {},
   "source": [
    "![broadcasting_2.png](attachment:broadcasting_2.png)"
   ]
  },
  {
   "cell_type": "code",
   "execution_count": 41,
   "id": "4d453c49",
   "metadata": {},
   "outputs": [
    {
     "data": {
      "text/plain": [
       "array([[ 1.,  2.,  3.],\n",
       "       [11., 12., 13.],\n",
       "       [21., 22., 23.],\n",
       "       [31., 32., 33.]])"
      ]
     },
     "execution_count": 41,
     "metadata": {},
     "output_type": "execute_result"
    }
   ],
   "source": [
    "a = np.array([[ 0.0,  0.0,  0.0],\n",
    "              [10.0, 10.0, 10.0],\n",
    "              [20.0, 20.0, 20.0],\n",
    "              [30.0, 30.0, 30.0]])\n",
    "b = np.array([1.0, 2.0, 3.0])\n",
    "a + b"
   ]
  },
  {
   "attachments": {
    "broadcasting_3.png": {
     "image/png": "[encoded data removed]"
    }
   },
   "cell_type": "markdown",
   "id": "e1175e56",
   "metadata": {},
   "source": [
    "![broadcasting_3.png](attachment:broadcasting_3.png)"
   ]
  },
  {
   "cell_type": "code",
   "execution_count": 42,
   "id": "94a05455",
   "metadata": {},
   "outputs": [
    {
     "name": "stdout",
     "output_type": "stream",
     "text": [
      "\n",
      "Error when adding 'b' to 'a': operands could not be broadcast together with shapes (4,3) (4,) \n"
     ]
    }
   ],
   "source": [
    "b = np.array([1.0, 2.0, 3.0, 4.0])\n",
    "try:\n",
    "    a + b\n",
    "except ValueError as e:\n",
    "    print(\"\\nError when adding 'b' to 'a':\", e)"
   ]
  },
  {
   "cell_type": "markdown",
   "id": "ece90ba3",
   "metadata": {},
   "source": [
    "### Universal functions\n",
    "\n",
    "NumPy provides familiar mathematical functions such as `sin`, `cos`, and `exp`. In NumPy, these are called “universal functions” (ufunc). Within NumPy, these functions operate elementwise on an array, producing an array as output."
   ]
  },
  {
   "cell_type": "code",
   "execution_count": 43,
   "id": "2a545577",
   "metadata": {},
   "outputs": [
    {
     "data": {
      "text/plain": [
       "array([0, 1, 2])"
      ]
     },
     "execution_count": 43,
     "metadata": {},
     "output_type": "execute_result"
    }
   ],
   "source": [
    "B = np.arange(3)\n",
    "B"
   ]
  },
  {
   "cell_type": "code",
   "execution_count": 44,
   "id": "a69a96c3",
   "metadata": {},
   "outputs": [
    {
     "data": {
      "text/plain": [
       "array([1.        , 2.71828183, 7.3890561 ])"
      ]
     },
     "execution_count": 44,
     "metadata": {},
     "output_type": "execute_result"
    }
   ],
   "source": [
    "np.exp(B)"
   ]
  },
  {
   "cell_type": "code",
   "execution_count": 45,
   "id": "a12ce6d0",
   "metadata": {},
   "outputs": [
    {
     "data": {
      "text/plain": [
       "array([0.        , 1.        , 1.41421356])"
      ]
     },
     "execution_count": 45,
     "metadata": {},
     "output_type": "execute_result"
    }
   ],
   "source": [
    "np.sqrt(B)"
   ]
  },
  {
   "cell_type": "markdown",
   "id": "f1ef736f",
   "metadata": {},
   "source": [
    "### Statistical Operation\n",
    "Statistical functions in NumPy are essential for data analysis. They include functions like `sum()`, `mean()`, `median()`, `std()`, `var()`, `min()`, `max()`, `argmin()`, `argmax()`, `cumsum()`, and more. These functions allow you to perform operations such as summing, averaging, finding standard deviation, variance, minimum, maximum, and cumulative sums on array elements. Refer to the code below for examples."
   ]
  },
  {
   "cell_type": "code",
   "execution_count": 46,
   "id": "927e5e19",
   "metadata": {},
   "outputs": [],
   "source": [
    "dataset = np.random.normal(50, 10, (10,10))"
   ]
  },
  {
   "cell_type": "code",
   "execution_count": 47,
   "id": "f496ff2b",
   "metadata": {},
   "outputs": [
    {
     "data": {
      "text/plain": [
       "4848.162276404988"
      ]
     },
     "execution_count": 47,
     "metadata": {},
     "output_type": "execute_result"
    }
   ],
   "source": [
    "dataset.sum()"
   ]
  },
  {
   "cell_type": "code",
   "execution_count": 48,
   "id": "5877c48f",
   "metadata": {},
   "outputs": [
    {
     "data": {
      "text/plain": [
       "48.48162276404988"
      ]
     },
     "execution_count": 48,
     "metadata": {},
     "output_type": "execute_result"
    }
   ],
   "source": [
    "dataset.mean()"
   ]
  },
  {
   "cell_type": "code",
   "execution_count": 49,
   "id": "9d226457",
   "metadata": {},
   "outputs": [
    {
     "data": {
      "text/plain": [
       "8.968898413031903"
      ]
     },
     "execution_count": 49,
     "metadata": {},
     "output_type": "execute_result"
    }
   ],
   "source": [
    "dataset.std()"
   ]
  },
  {
   "cell_type": "markdown",
   "id": "8374584a",
   "metadata": {},
   "source": [
    "By default, these operations apply to the array as though it were a list of numbers, regardless of its shape. However, by specifying the axis parameter you can apply an operation along the specified axis of an array:"
   ]
  },
  {
   "cell_type": "code",
   "execution_count": 50,
   "id": "dd1d4810",
   "metadata": {},
   "outputs": [
    {
     "data": {
      "text/plain": [
       "array([495.5095476 , 515.39951736, 472.97308575, 458.93920431,\n",
       "       498.073313  , 532.0454796 , 487.9438839 , 446.35060631,\n",
       "       449.36615138, 491.56148719])"
      ]
     },
     "execution_count": 50,
     "metadata": {},
     "output_type": "execute_result"
    }
   ],
   "source": [
    "dataset.sum(axis=0) #column sum"
   ]
  },
  {
   "cell_type": "code",
   "execution_count": 51,
   "id": "0c3eb64c",
   "metadata": {},
   "outputs": [
    {
     "data": {
      "text/plain": [
       "array([49.55095476, 51.53995174, 47.29730858, 45.89392043, 49.8073313 ,\n",
       "       53.20454796, 48.79438839, 44.63506063, 44.93661514, 49.15614872])"
      ]
     },
     "execution_count": 51,
     "metadata": {},
     "output_type": "execute_result"
    }
   ],
   "source": [
    "dataset.mean(axis=0) #column mean"
   ]
  },
  {
   "cell_type": "code",
   "execution_count": 52,
   "id": "d0a25531",
   "metadata": {},
   "outputs": [
    {
     "data": {
      "text/plain": [
       "array([ 8.19931161,  8.31736065,  5.55606561,  9.73237224,  7.61101384,\n",
       "        8.05749777,  6.64025537,  9.64079372, 11.39743887,  9.05813674])"
      ]
     },
     "execution_count": 52,
     "metadata": {},
     "output_type": "execute_result"
    }
   ],
   "source": [
    "dataset.std(axis=0) #column std"
   ]
  },
  {
   "cell_type": "code",
   "execution_count": 53,
   "id": "56333a2c",
   "metadata": {},
   "outputs": [
    {
     "data": {
      "text/plain": [
       "array([[ 65.79212816, 123.46647545, 168.77173159, 224.19733202,\n",
       "        269.56315509, 314.90585756, 367.32548027, 398.19267783,\n",
       "        430.9434995 , 475.32062421],\n",
       "       [ 39.8716888 ,  93.01416212, 133.93392137, 169.81088435,\n",
       "        234.46737204, 282.20960904, 332.88489109, 368.63740922,\n",
       "        413.19358198, 464.30280787],\n",
       "       [ 38.49006423,  92.24704441, 136.24065751, 183.32372001,\n",
       "        227.30665389, 295.82943573, 345.69446349, 385.1173542 ,\n",
       "        443.34280332, 481.13436682],\n",
       "       [ 52.08863595,  82.49193471, 119.21007422, 171.17868658,\n",
       "        228.56335238, 280.27703519, 329.12055237, 376.10951541,\n",
       "        411.32429551, 454.12585343],\n",
       "       [ 45.39361229, 105.96483455, 159.40101745, 191.77061589,\n",
       "        245.01145559, 291.16063278, 334.39141278, 390.50817567,\n",
       "        450.81817089, 510.13097209],\n",
       "       [ 41.60782477,  88.51570101, 141.82833532, 201.58378659,\n",
       "        246.79204422, 294.93545445, 333.87210471, 371.91003847,\n",
       "        430.03529669, 493.59769698],\n",
       "       [ 49.27989878, 109.31522776, 162.93158801, 206.48039047,\n",
       "        260.09434652, 325.47471219, 375.1164518 , 440.76288835,\n",
       "        464.56543731, 522.78446236],\n",
       "       [ 50.87047068,  97.88039718, 148.79800494, 178.9223158 ,\n",
       "        226.72559692, 280.29672263, 345.07566308, 389.8929609 ,\n",
       "        431.80802487, 476.79045443],\n",
       "       [ 59.15402118, 112.44153227, 157.14393024, 212.27660457,\n",
       "        263.24738006, 322.93382997, 365.91329903, 412.63667756,\n",
       "        458.71559603, 494.08044655],\n",
       "       [ 52.96120277, 105.57175549, 155.62289006, 203.27701873,\n",
       "        239.1233113 , 284.91685808, 331.48971291, 373.46694022,\n",
       "        421.8540831 , 475.89459167]])"
      ]
     },
     "execution_count": 53,
     "metadata": {},
     "output_type": "execute_result"
    }
   ],
   "source": [
    "dataset.cumsum(axis=1) #row cumulative sum"
   ]
  },
  {
   "cell_type": "markdown",
   "id": "ced1351a",
   "metadata": {},
   "source": [
    "### Indexing, slicing and iterating\n",
    "\n",
    "One-dimensional arrays can be indexed, sliced and iterated over, much like lists and other Python sequences."
   ]
  },
  {
   "cell_type": "code",
   "execution_count": 54,
   "id": "6e15d4bf",
   "metadata": {},
   "outputs": [],
   "source": [
    "a = np.arange(10)**3"
   ]
  },
  {
   "cell_type": "code",
   "execution_count": 55,
   "id": "3d631f7c",
   "metadata": {},
   "outputs": [
    {
     "data": {
      "text/plain": [
       "8"
      ]
     },
     "execution_count": 55,
     "metadata": {},
     "output_type": "execute_result"
    }
   ],
   "source": [
    "a[2]"
   ]
  },
  {
   "cell_type": "code",
   "execution_count": 56,
   "id": "5b94062a",
   "metadata": {},
   "outputs": [
    {
     "data": {
      "text/plain": [
       "array([ 8, 27, 64], dtype=int32)"
      ]
     },
     "execution_count": 56,
     "metadata": {},
     "output_type": "execute_result"
    }
   ],
   "source": [
    "a[2:5]"
   ]
  },
  {
   "cell_type": "code",
   "execution_count": 57,
   "id": "38440402",
   "metadata": {},
   "outputs": [
    {
     "data": {
      "text/plain": [
       "array([1000,    1, 1000,   27, 1000,  125,  216,  343,  512,  729],\n",
       "      dtype=int32)"
      ]
     },
     "execution_count": 57,
     "metadata": {},
     "output_type": "execute_result"
    }
   ],
   "source": [
    "a[:6:2] = 1000 #equivalent to a[0:6:2]\n",
    "a"
   ]
  },
  {
   "cell_type": "code",
   "execution_count": 58,
   "id": "5ed11a85",
   "metadata": {},
   "outputs": [
    {
     "data": {
      "text/plain": [
       "array([ 729,  512,  343,  216,  125, 1000,   27, 1000,    1, 1000],\n",
       "      dtype=int32)"
      ]
     },
     "execution_count": 58,
     "metadata": {},
     "output_type": "execute_result"
    }
   ],
   "source": [
    "a[::-1]  # reversed a"
   ]
  },
  {
   "cell_type": "code",
   "execution_count": 59,
   "id": "dc2f18d9",
   "metadata": {},
   "outputs": [
    {
     "name": "stdout",
     "output_type": "stream",
     "text": [
      "10.0\n",
      "1.0\n",
      "10.0\n",
      "3.0\n",
      "10.0\n",
      "5.0\n",
      "6.0\n",
      "7.0\n",
      "8.0\n",
      "9.0\n"
     ]
    }
   ],
   "source": [
    "for i in a:\n",
    "    print(np.ceil(i**(1 / 3.)))"
   ]
  },
  {
   "cell_type": "markdown",
   "id": "233b3dc7",
   "metadata": {},
   "source": [
    "Multidimensional arrays can have one index per axis. These indices are given in a tuple separated by commas:"
   ]
  },
  {
   "cell_type": "code",
   "execution_count": 60,
   "id": "f6fb798f",
   "metadata": {},
   "outputs": [
    {
     "data": {
      "text/plain": [
       "array([[ 0,  1,  2,  3],\n",
       "       [10, 11, 12, 13],\n",
       "       [20, 21, 22, 23],\n",
       "       [30, 31, 32, 33],\n",
       "       [40, 41, 42, 43]])"
      ]
     },
     "execution_count": 60,
     "metadata": {},
     "output_type": "execute_result"
    }
   ],
   "source": [
    "def f(x, y):\n",
    "    return 10 * x + y\n",
    "\n",
    "b = np.fromfunction(f, (5, 4), dtype=int)\n",
    "b"
   ]
  },
  {
   "cell_type": "code",
   "execution_count": 61,
   "id": "07d4b5b8",
   "metadata": {},
   "outputs": [
    {
     "data": {
      "text/plain": [
       "23"
      ]
     },
     "execution_count": 61,
     "metadata": {},
     "output_type": "execute_result"
    }
   ],
   "source": [
    "b[2, 3]"
   ]
  },
  {
   "cell_type": "code",
   "execution_count": 62,
   "id": "db922f5a",
   "metadata": {},
   "outputs": [
    {
     "data": {
      "text/plain": [
       "array([ 1, 11, 21, 31, 41])"
      ]
     },
     "execution_count": 62,
     "metadata": {},
     "output_type": "execute_result"
    }
   ],
   "source": [
    "b[0:5, 1]  # each row in the second column of b"
   ]
  },
  {
   "cell_type": "code",
   "execution_count": 63,
   "id": "d8e4e607",
   "metadata": {},
   "outputs": [
    {
     "data": {
      "text/plain": [
       "array([[10, 11, 12, 13],\n",
       "       [20, 21, 22, 23]])"
      ]
     },
     "execution_count": 63,
     "metadata": {},
     "output_type": "execute_result"
    }
   ],
   "source": [
    "b[1:3, :]  # each column in the second and third row of b"
   ]
  },
  {
   "cell_type": "markdown",
   "id": "2c94080f",
   "metadata": {},
   "source": [
    "When fewer indices are provided than the number of axes, the missing indices are considered complete slices:"
   ]
  },
  {
   "cell_type": "code",
   "execution_count": 64,
   "id": "fdad57e1",
   "metadata": {},
   "outputs": [
    {
     "data": {
      "text/plain": [
       "array([40, 41, 42, 43])"
      ]
     },
     "execution_count": 64,
     "metadata": {},
     "output_type": "execute_result"
    }
   ],
   "source": [
    "b[-1]   # the last row. Equivalent to b[-1, :]"
   ]
  },
  {
   "cell_type": "markdown",
   "id": "03159c2f",
   "metadata": {},
   "source": [
    "The expression within brackets in `b[i]` is treated as an i followed by as many instances of `:` as needed to represent the remaining axes. NumPy also allows you to write this using dots as `b[i, ...]`.\n",
    "\n",
    "\n",
    "The **dots** (`...`) represent as many colons as needed to produce a complete indexing tuple. For example, if `x` is an array with 5 axes, then:\n",
    "\n",
    "- `x[1, 2, ...]` is equivalent to `x[1, 2, :, :, :]`\n",
    "- `x[..., 3]` is equivalent to `x[:, :, :, :, 3]`\n",
    "- `x[4, ..., 5, :]` is equivalent to `x[4, :, :, 5, :]`"
   ]
  },
  {
   "cell_type": "code",
   "execution_count": 65,
   "id": "ed28606e",
   "metadata": {},
   "outputs": [
    {
     "data": {
      "text/plain": [
       "(2, 2, 3)"
      ]
     },
     "execution_count": 65,
     "metadata": {},
     "output_type": "execute_result"
    }
   ],
   "source": [
    "c = np.array([[[  0,  1,  2],  # a 3D array (two stacked 2D arrays)\n",
    "               [ 10, 12, 13]],\n",
    "              [[100, 101, 102],\n",
    "               [110, 112, 113]]])\n",
    "c.shape"
   ]
  },
  {
   "cell_type": "code",
   "execution_count": 66,
   "id": "67a2430a",
   "metadata": {},
   "outputs": [
    {
     "data": {
      "text/plain": [
       "array([[100, 101, 102],\n",
       "       [110, 112, 113]])"
      ]
     },
     "execution_count": 66,
     "metadata": {},
     "output_type": "execute_result"
    }
   ],
   "source": [
    "c[1, ...]  # same as c[1, :, :] or c[1]"
   ]
  },
  {
   "cell_type": "code",
   "execution_count": 67,
   "id": "0844b671",
   "metadata": {},
   "outputs": [
    {
     "data": {
      "text/plain": [
       "array([[  2,  13],\n",
       "       [102, 113]])"
      ]
     },
     "execution_count": 67,
     "metadata": {},
     "output_type": "execute_result"
    }
   ],
   "source": [
    "c[..., 2]  # same as c[:, :, 2]"
   ]
  },
  {
   "cell_type": "markdown",
   "id": "6e60aa1e",
   "metadata": {},
   "source": [
    "Iterating over multidimensional arrays is done with respect to the first axis:"
   ]
  },
  {
   "cell_type": "code",
   "execution_count": 68,
   "id": "c4178f3f",
   "metadata": {},
   "outputs": [
    {
     "name": "stdout",
     "output_type": "stream",
     "text": [
      "[0 1 2 3]\n",
      "[10 11 12 13]\n",
      "[20 21 22 23]\n",
      "[30 31 32 33]\n",
      "[40 41 42 43]\n"
     ]
    }
   ],
   "source": [
    "for row in b:\n",
    "    print(row)"
   ]
  },
  {
   "cell_type": "markdown",
   "id": "ca6a63d7",
   "metadata": {},
   "source": [
    "### Changing the shape of an array\n",
    "The shape of an array can be changed with various commands:\n",
    "\n",
    "- **Flattening**: `ravel()` function transforms a multi-dimensional array into a one-dimensional array. It essentially takes all the elements and lays them out in a single row, preserving the order of the elements. The resulting array contains the same data but in a flattened format.\n",
    "\n",
    "- **Reshaping**: `reshape()` function allows you to change the structure of the array without altering its data. You can specify new dimensions, and as long as the total number of elements remains the same, it will rearrange the elements into the new shape. For example, if you have an array with 12 elements, you can reshape it to have 6 rows and 2 columns.\n",
    "\n",
    "- **Transposing**: `T` gives the swap of rows and columns of the array. Essentially, the element at position (i, j) in the original array will be located at position (j, i) in the transposed array. This operation is particularly useful in linear algebra and certain data manipulation tasks.\n",
    "\n",
    "Note that these three commands all return a modified array, but do not change the original array:"
   ]
  },
  {
   "cell_type": "code",
   "execution_count": 69,
   "id": "d5f37ee7",
   "metadata": {},
   "outputs": [
    {
     "data": {
      "text/plain": [
       "array([[5., 7., 3., 9.],\n",
       "       [9., 2., 4., 3.],\n",
       "       [2., 0., 6., 5.]])"
      ]
     },
     "execution_count": 69,
     "metadata": {},
     "output_type": "execute_result"
    }
   ],
   "source": [
    "a = np.floor(10 * np.random.random((3, 4)))\n",
    "a"
   ]
  },
  {
   "cell_type": "code",
   "execution_count": 70,
   "id": "8f02fc07",
   "metadata": {},
   "outputs": [
    {
     "data": {
      "text/plain": [
       "array([5., 7., 3., 9., 9., 2., 4., 3., 2., 0., 6., 5.])"
      ]
     },
     "execution_count": 70,
     "metadata": {},
     "output_type": "execute_result"
    }
   ],
   "source": [
    "a.ravel()"
   ]
  },
  {
   "cell_type": "code",
   "execution_count": 71,
   "id": "8983be4f",
   "metadata": {},
   "outputs": [
    {
     "data": {
      "text/plain": [
       "array([[5., 7.],\n",
       "       [3., 9.],\n",
       "       [9., 2.],\n",
       "       [4., 3.],\n",
       "       [2., 0.],\n",
       "       [6., 5.]])"
      ]
     },
     "execution_count": 71,
     "metadata": {},
     "output_type": "execute_result"
    }
   ],
   "source": [
    "a.reshape(6, 2)  # returns the array with a modified shape"
   ]
  },
  {
   "cell_type": "code",
   "execution_count": 72,
   "id": "6260c446",
   "metadata": {},
   "outputs": [
    {
     "data": {
      "text/plain": [
       "array([[5., 9., 2.],\n",
       "       [7., 2., 0.],\n",
       "       [3., 4., 6.],\n",
       "       [9., 3., 5.]])"
      ]
     },
     "execution_count": 72,
     "metadata": {},
     "output_type": "execute_result"
    }
   ],
   "source": [
    "a.T  # returns the array, transposed"
   ]
  },
  {
   "cell_type": "markdown",
   "id": "0eabe847",
   "metadata": {},
   "source": [
    "The `reshape()` function returns its argument with a modified shape, whereas the `ndarray.resize` method modifies the array itself:"
   ]
  },
  {
   "cell_type": "code",
   "execution_count": 73,
   "id": "a248f0a2",
   "metadata": {},
   "outputs": [
    {
     "data": {
      "text/plain": [
       "array([[5., 7., 3., 9., 9., 2.],\n",
       "       [4., 3., 2., 0., 6., 5.]])"
      ]
     },
     "execution_count": 73,
     "metadata": {},
     "output_type": "execute_result"
    }
   ],
   "source": [
    "a.resize((2, 6))\n",
    "a"
   ]
  },
  {
   "cell_type": "markdown",
   "id": "7e4454c8",
   "metadata": {},
   "source": [
    "If a dimension is given as -1 in a reshaping operation, the other dimensions are automatically calculated:"
   ]
  },
  {
   "cell_type": "code",
   "execution_count": 74,
   "id": "6121d8fe",
   "metadata": {},
   "outputs": [
    {
     "data": {
      "text/plain": [
       "array([[5., 7., 3., 9.],\n",
       "       [9., 2., 4., 3.],\n",
       "       [2., 0., 6., 5.]])"
      ]
     },
     "execution_count": 74,
     "metadata": {},
     "output_type": "execute_result"
    }
   ],
   "source": [
    "a.reshape(3, -1) # same as a.reshape(3, 4)"
   ]
  },
  {
   "cell_type": "markdown",
   "id": "ee639231",
   "metadata": {},
   "source": [
    "### Stacking together different arrays\n",
    "\n",
    "Several arrays can be stacked together along different axes:"
   ]
  },
  {
   "cell_type": "code",
   "execution_count": 75,
   "id": "41c8ab5f",
   "metadata": {},
   "outputs": [],
   "source": [
    "a = np.floor(10 * np.random.random((2, 2)))\n",
    "b = np.floor(10 * np.random.random((2, 2)))"
   ]
  },
  {
   "cell_type": "code",
   "execution_count": 76,
   "id": "5a5d578d",
   "metadata": {},
   "outputs": [
    {
     "data": {
      "text/plain": [
       "array([[0., 2.],\n",
       "       [9., 2.],\n",
       "       [1., 4.],\n",
       "       [9., 2.]])"
      ]
     },
     "execution_count": 76,
     "metadata": {},
     "output_type": "execute_result"
    }
   ],
   "source": [
    "# Stack arrays 'a' and 'b' vertically (row-wise) to create a new array\n",
    "np.vstack((a, b))"
   ]
  },
  {
   "cell_type": "code",
   "execution_count": 77,
   "id": "52851a78",
   "metadata": {},
   "outputs": [
    {
     "data": {
      "text/plain": [
       "array([[0., 2., 1., 4.],\n",
       "       [9., 2., 9., 2.]])"
      ]
     },
     "execution_count": 77,
     "metadata": {},
     "output_type": "execute_result"
    }
   ],
   "source": [
    "# Stack arrays 'a' and 'b' horizontally (column-wise) to create a new array\n",
    "np.hstack((a, b))"
   ]
  },
  {
   "cell_type": "code",
   "execution_count": 78,
   "id": "3b212062",
   "metadata": {},
   "outputs": [
    {
     "data": {
      "text/plain": [
       "array([[0., 2.],\n",
       "       [9., 2.],\n",
       "       [1., 4.],\n",
       "       [9., 2.]])"
      ]
     },
     "execution_count": 78,
     "metadata": {},
     "output_type": "execute_result"
    }
   ],
   "source": [
    "# Same as np.vstack((a, b))\n",
    "np.concatenate((a, b),axis = 0)"
   ]
  },
  {
   "cell_type": "code",
   "execution_count": 79,
   "id": "36910d16",
   "metadata": {},
   "outputs": [
    {
     "data": {
      "text/plain": [
       "array([[0., 2., 1., 4.],\n",
       "       [9., 2., 9., 2.]])"
      ]
     },
     "execution_count": 79,
     "metadata": {},
     "output_type": "execute_result"
    }
   ],
   "source": [
    "# Same as np.hstack((a, b))\n",
    "np.concatenate((a, b),axis = 1)"
   ]
  },
  {
   "cell_type": "markdown",
   "id": "67a05b36",
   "metadata": {},
   "source": [
    "In general, for arrays with more than two dimensions, `hstack` stacks along their second axes, `vstack` stacks along their first axes, and `concatenate` allows for an optional arguments giving the number of the axis along which the concatenation should happen."
   ]
  },
  {
   "cell_type": "markdown",
   "id": "54ce1af1",
   "metadata": {},
   "source": [
    "### Splitting one array into several smaller ones\n",
    "\n",
    "Using `hsplit`, you can split an array along its horizontal axis, either by specifying the number of equally shaped arrays to return, or by specifying the columns after which the division should occur:"
   ]
  },
  {
   "cell_type": "code",
   "execution_count": 80,
   "id": "fbd1b6c9",
   "metadata": {},
   "outputs": [
    {
     "data": {
      "text/plain": [
       "array([[6., 7., 2., 7., 3., 6., 6., 5., 0., 8., 3., 1.],\n",
       "       [0., 5., 6., 0., 5., 2., 6., 1., 6., 3., 9., 1.]])"
      ]
     },
     "execution_count": 80,
     "metadata": {},
     "output_type": "execute_result"
    }
   ],
   "source": [
    "a = np.floor(10 * np.random.random((2, 12)))\n",
    "a"
   ]
  },
  {
   "cell_type": "code",
   "execution_count": 81,
   "id": "e069b70f",
   "metadata": {},
   "outputs": [
    {
     "data": {
      "text/plain": [
       "[array([[6., 7., 2., 7.],\n",
       "        [0., 5., 6., 0.]]),\n",
       " array([[3., 6., 6., 5.],\n",
       "        [5., 2., 6., 1.]]),\n",
       " array([[0., 8., 3., 1.],\n",
       "        [6., 3., 9., 1.]])]"
      ]
     },
     "execution_count": 81,
     "metadata": {},
     "output_type": "execute_result"
    }
   ],
   "source": [
    "# Split `a` into 3 arrays\n",
    "np.hsplit(a, 3)"
   ]
  },
  {
   "cell_type": "code",
   "execution_count": 85,
   "id": "5f6cd47f",
   "metadata": {},
   "outputs": [
    {
     "data": {
      "text/plain": [
       "[array([[6., 7., 2.],\n",
       "        [0., 5., 6.]]),\n",
       " array([[7.],\n",
       "        [0.]]),\n",
       " array([[3., 6., 6., 5., 0., 8., 3., 1.],\n",
       "        [5., 2., 6., 1., 6., 3., 9., 1.]])]"
      ]
     },
     "execution_count": 85,
     "metadata": {},
     "output_type": "execute_result"
    }
   ],
   "source": [
    "# Split `a` after the third and the fourth column\n",
    "np.hsplit(a, (3, 4))"
   ]
  },
  {
   "cell_type": "markdown",
   "id": "3c5c3f19",
   "metadata": {},
   "source": [
    "`vsplit` splits along the vertical axis, and `array_split` allows one to specify along which axis to split."
   ]
  },
  {
   "cell_type": "markdown",
   "id": "4009462c",
   "metadata": {},
   "source": [
    "### Copies and views\n",
    "When operating and manipulating arrays, their data is sometimes copied into a new array and sometimes not. This is often a source of confusion for beginners. There are three cases:\n",
    "\n",
    "- No copy at all\n",
    "\n",
    "- Shallow copy (or view copy)\n",
    "\n",
    "- Deep copy"
   ]
  },
  {
   "cell_type": "markdown",
   "id": "75631a31",
   "metadata": {},
   "source": [
    "### No copy at all\n",
    "\n",
    "Simple assignments make no copy of objects or their data."
   ]
  },
  {
   "cell_type": "code",
   "execution_count": 86,
   "id": "882ee296",
   "metadata": {},
   "outputs": [
    {
     "data": {
      "text/plain": [
       "True"
      ]
     },
     "execution_count": 86,
     "metadata": {},
     "output_type": "execute_result"
    }
   ],
   "source": [
    "a = np.array([[ 0,  1,  2,  3],\n",
    "              [ 4,  5,  6,  7],\n",
    "              [ 8,  9, 10, 11]])\n",
    "b = a            # no new object is created\n",
    "b is a           # a and b are two names for the same ndarray object, so true"
   ]
  },
  {
   "cell_type": "markdown",
   "id": "1320591d",
   "metadata": {},
   "source": [
    "### View or shallow copy\n",
    "\n",
    "Different array objects can share the same data. The view method creates a new array object that looks at the same data."
   ]
  },
  {
   "cell_type": "code",
   "execution_count": 87,
   "id": "b3069ae4",
   "metadata": {},
   "outputs": [
    {
     "data": {
      "text/plain": [
       "False"
      ]
     },
     "execution_count": 87,
     "metadata": {},
     "output_type": "execute_result"
    }
   ],
   "source": [
    "c = a.view()           # Create a view of array 'a' and assign it to 'c'\n",
    "c is a                 # Because 'c' is a new array object"
   ]
  },
  {
   "cell_type": "code",
   "execution_count": 88,
   "id": "eada5a20",
   "metadata": {},
   "outputs": [
    {
     "data": {
      "text/plain": [
       "True"
      ]
     },
     "execution_count": 88,
     "metadata": {},
     "output_type": "execute_result"
    }
   ],
   "source": [
    "c.base is a            # c is a view of the data owned by a"
   ]
  },
  {
   "cell_type": "code",
   "execution_count": 89,
   "id": "207a0fd3",
   "metadata": {},
   "outputs": [
    {
     "data": {
      "text/plain": [
       "False"
      ]
     },
     "execution_count": 89,
     "metadata": {},
     "output_type": "execute_result"
    }
   ],
   "source": [
    "c.flags.owndata"
   ]
  },
  {
   "cell_type": "code",
   "execution_count": 90,
   "id": "df2d33f1",
   "metadata": {},
   "outputs": [
    {
     "data": {
      "text/plain": [
       "(3, 4)"
      ]
     },
     "execution_count": 90,
     "metadata": {},
     "output_type": "execute_result"
    }
   ],
   "source": [
    "c = c.reshape((2, 6))  # a's shape doesn't change\n",
    "a.shape"
   ]
  },
  {
   "cell_type": "code",
   "execution_count": 93,
   "id": "bfd9da06",
   "metadata": {},
   "outputs": [
    {
     "data": {
      "text/plain": [
       "array([[   0,    1,    2,    3],\n",
       "       [1234,    5,    6,    7],\n",
       "       [   8,    9,   10,   11]])"
      ]
     },
     "execution_count": 93,
     "metadata": {},
     "output_type": "execute_result"
    }
   ],
   "source": [
    "c[0, 4] = 1234         # a's data changes\n",
    "a"
   ]
  },
  {
   "cell_type": "markdown",
   "id": "8b917a78",
   "metadata": {},
   "source": [
    "### Deep copy\n",
    "\n",
    "The copy method makes a complete copy of the array and its data."
   ]
  },
  {
   "cell_type": "code",
   "execution_count": 97,
   "id": "631627c6",
   "metadata": {},
   "outputs": [
    {
     "data": {
      "text/plain": [
       "False"
      ]
     },
     "execution_count": 97,
     "metadata": {},
     "output_type": "execute_result"
    }
   ],
   "source": [
    "d = a.copy()  # a new array object with new data is created\n",
    "d is a"
   ]
  },
  {
   "cell_type": "code",
   "execution_count": 98,
   "id": "18c96efb",
   "metadata": {},
   "outputs": [
    {
     "data": {
      "text/plain": [
       "False"
      ]
     },
     "execution_count": 98,
     "metadata": {},
     "output_type": "execute_result"
    }
   ],
   "source": [
    "d.base is a  # d doesn't share anything with a"
   ]
  },
  {
   "cell_type": "code",
   "execution_count": 99,
   "id": "3b1cd969",
   "metadata": {},
   "outputs": [
    {
     "data": {
      "text/plain": [
       "array([[9999,    1,    2,    3],\n",
       "       [1234,    5,    6,    7],\n",
       "       [   8,    9,   10,   11]])"
      ]
     },
     "execution_count": 99,
     "metadata": {},
     "output_type": "execute_result"
    }
   ],
   "source": [
    "d[0, 0] = 9999\n",
    "d"
   ]
  },
  {
   "cell_type": "code",
   "execution_count": 100,
   "id": "b835b291",
   "metadata": {},
   "outputs": [
    {
     "data": {
      "text/plain": [
       "array([[   0,    1,    2,    3],\n",
       "       [1234,    5,    6,    7],\n",
       "       [   8,    9,   10,   11]])"
      ]
     },
     "execution_count": 100,
     "metadata": {},
     "output_type": "execute_result"
    }
   ],
   "source": [
    "a"
   ]
  },
  {
   "cell_type": "markdown",
   "id": "745513ff",
   "metadata": {},
   "source": [
    "## 2. NumPy functions and methods overview\n",
    "\n",
    "Here's the list of all some useful NumPy functions and methods names ordered in categories:\n",
    "\n",
    "### Array Creation\n",
    "``arange``, ``array``, ``copy``, ``empty``, ``empty_like``, ``eye``, ``fromfile``, ``fromfunction``, ``identity``, ``linspace``, ``logspace``, ``mgrid``, ``ogrid``, ``ones``, ``ones_like``, ``r_``, ``zeros``, ``zeros_like``\n",
    "\n",
    "### Conversions\n",
    "``ndarray.astype``, ``atleast_1d``, ``atleast_2d``, ``atleast_3d``, ``mat``\n",
    "\n",
    "### Manipulations\n",
    "``array_split``, ``column_stack``, ``concatenate``, ``diagonal``, ``dsplit``, ``dstack``, ``hsplit``, ``hstack``, ``ndarray.item``, ``newaxis``, ``ravel``, ``repeat``, ``reshape``, ``resize``, ``squeeze``, ``swapaxes``, ``take``, ``transpose``, ``vsplit``, ``vstack``\n",
    "\n",
    "### Questions\n",
    "``all``, ``any``, ``nonzero``, ``where``\n",
    "\n",
    "### Ordering\n",
    "``argmax``, ``argmin``, ``argsort``, ``max``, ``min``, ``ptp``, ``searchsorted``, ``sort``\n",
    "\n",
    "### Operations\n",
    "``choose``, ``compress``, ``cumprod``, ``cumsum``, ``inner``, ``ndarray.fill``, ``imag``, ``prod``, ``put``, ``putmask``, ``real``, ``sum``\n",
    "\n",
    "### Basic Statistics\n",
    "``cov``, ``mean``, ``std``, ``var``\n",
    "\n",
    "### Basic Linear Algebra\n",
    "``cross``, ``dot``, ``outer``, ``linalg.svd``, ``vdot``"
   ]
  }
 ],
 "metadata": {
  "kernelspec": {
   "display_name": "Python 3 (ipykernel)",
   "language": "python",
   "name": "python3"
  },
  "language_info": {
   "codemirror_mode": {
    "name": "ipython",
    "version": 3
   },
   "file_extension": ".py",
   "mimetype": "text/x-python",
   "name": "python",
   "nbconvert_exporter": "python",
   "pygments_lexer": "ipython3",
   "version": "3.9.12"
  }
 },
 "nbformat": 4,
 "nbformat_minor": 5
}
